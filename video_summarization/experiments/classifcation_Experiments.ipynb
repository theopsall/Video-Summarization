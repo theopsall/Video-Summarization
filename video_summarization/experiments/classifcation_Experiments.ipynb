{
 "cells": [
  {
   "cell_type": "markdown",
   "metadata": {},
   "source": [
    "# Imports Libraries"
   ]
  },
  {
   "cell_type": "code",
   "execution_count": 1,
   "metadata": {},
   "outputs": [],
   "source": [
    "import os\n",
    "import sklearn as sk\n",
    "import numpy as np\n",
    "from numpy.random import shuffle\n",
    "from sklearn.naive_bayes import GaussianNB\n",
    "from sklearn.linear_model import LinearRegression\n",
    "from sklearn.linear_model import LogisticRegression\n",
    "from sklearn.svm import (\n",
    "    SVC,\n",
    ")  # SVM is not going to work. After 150.000 samples is almsot impossible to run\n",
    "from sklearn.tree import DecisionTreeClassifier  # Import Decision Tree Classifier\n",
    "from sklearn.ensemble import RandomForestClassifier\n",
    "from imblearn.ensemble import BalancedRandomForestClassifier\n",
    "from sklearn.neighbors import KNeighborsClassifier\n",
    "from sklearn.metrics import (\n",
    "    accuracy_score,\n",
    "    precision_score,\n",
    "    recall_score,\n",
    "    f1_score,\n",
    "    roc_auc_score,\n",
    "    roc_curve,\n",
    "    confusion_matrix,\n",
    "    plot_confusion_matrix,\n",
    ")\n",
    "from sklearn.preprocessing import StandardScaler\n",
    "from matplotlib import pyplot\n",
    "from imblearn.ensemble import BalancedRandomForestClassifier\n",
    "from xgboost import XGBClassifier\n",
    "from collections import Counter"
   ]
  },
  {
   "cell_type": "markdown",
   "metadata": {},
   "source": [
    "# Functions"
   ]
  },
  {
   "cell_type": "code",
   "execution_count": 2,
   "metadata": {},
   "outputs": [],
   "source": [
    "def crawl_directory(directory: str) -> list:\n",
    "    \"\"\"Crawling data directory\n",
    "    Args:\n",
    "        directory (str) : The directory to crawl\n",
    "    Returns:\n",
    "        tree (list)     : A list with all the filepaths\n",
    "    \"\"\"\n",
    "    tree = []\n",
    "    subdirs = [folder[0] for folder in os.walk(directory)]\n",
    "\n",
    "    for subdir in subdirs:\n",
    "        files = next(os.walk(subdir))[2]\n",
    "        for _file in files:\n",
    "            tree.append(os.path.join(subdir, _file))\n",
    "\n",
    "    return tree"
   ]
  },
  {
   "cell_type": "code",
   "execution_count": 3,
   "metadata": {},
   "outputs": [],
   "source": [
    "def unique_files(tree: list) -> set:\n",
    "    \"\"\"\n",
    "    Getting the unique file names from a list\n",
    "    \"\"\"\n",
    "    sunolo = set()\n",
    "    for i in tree:\n",
    "        sunolo.add(i.split(os.sep)[-1].split(\".\")[0])\n",
    "    return sunolo"
   ]
  },
  {
   "cell_type": "code",
   "execution_count": 4,
   "metadata": {},
   "outputs": [],
   "source": [
    "def load_npys_to_matrics(\n",
    "    labels: list, videos: list, audio: list, threshold: int = 0.6\n",
    ") -> tuple:\n",
    "    \"\"\"\n",
    "    Loading the numpy files. Visual and audio will be averaged every 5 and 10 rows respectively.\n",
    "    DISCLAIMER i keep the minimum number of samples between the same video file from label, video and audio features matrices.\n",
    "    \"\"\"\n",
    "    STATS = {}\n",
    "    print(\"Nunpy to Matrices have start\")\n",
    "    files_sizes = []\n",
    "    labels_matrix = []\n",
    "    visual_matrix = []\n",
    "    audio_matrix = []\n",
    "    if not len(labels) == len(videos) == len(audio):\n",
    "        raise Exception(\"Labels, visual features and audio have not the same size\")\n",
    "    for idx in range(len(labels)):\n",
    "        # load labels, visual and audio in temporary variables\n",
    "        try:\n",
    "            tmp_label = np.load(labels[idx])\n",
    "\n",
    "            # 1 if the timestamp have been annotated at least from the half annotators of that specific file\n",
    "            max_annotators = int(np.amax(tmp_label))\n",
    "\n",
    "            if max_annotators < 3:\n",
    "                continue\n",
    "\n",
    "            tmp_label[tmp_label / max_annotators < threshold] = 0\n",
    "            tmp_label[tmp_label / max_annotators >= threshold] = 1\n",
    "\n",
    "            tmp_label[tmp_label >= max_annotators] = 1\n",
    "\n",
    "            tmp_visual = np.load(videos[idx])\n",
    "            tmp_audio = np.load(\n",
    "                audio[idx]\n",
    "            ).transpose()  # transposed to the same format of visual features (rows = samplles, columns = features)\n",
    "            if not max_annotators in STATS.keys():\n",
    "                STATS[max_annotators] = 0\n",
    "            STATS[max_annotators] += 1\n",
    "        except ValueError:\n",
    "            print(f\"File in index {idx} with name {videos[idx]} Not loaded\")\n",
    "            continue\n",
    "\n",
    "        # get min seconds from the same label, visual, audio np file\n",
    "        l_r = tmp_label.shape[0]\n",
    "        v_r, v_c = tmp_visual.shape\n",
    "        a_r, a_c = tmp_audio.shape\n",
    "\n",
    "        v_r = v_r // 5\n",
    "        min_seconds = min(l_r, v_r, a_r)\n",
    "\n",
    "        files_sizes.append(min_seconds)\n",
    "\n",
    "        labels_matrix.append(tmp_label[:min_seconds])\n",
    "        # VISUAL\n",
    "        # keep number of samples divisible with 5\n",
    "        tmp_visual = tmp_visual[: min_seconds * 5]\n",
    "        # averaging visual every 5 (Because we have analyze video with .2 step)\n",
    "        visual_matrix.append(\n",
    "            tmp_visual.transpose().reshape(-1, 5).mean(1).reshape(v_c, -1).transpose()\n",
    "        )\n",
    "\n",
    "        tmp_audio = tmp_audio[:min_seconds]\n",
    "        audio_matrix.append(tmp_audio)\n",
    "\n",
    "        del tmp_label\n",
    "        del tmp_visual\n",
    "        del tmp_audio\n",
    "\n",
    "    # print(STATS)\n",
    "    return files_sizes, labels_matrix, visual_matrix, audio_matrix"
   ]
  },
  {
   "cell_type": "code",
   "execution_count": 5,
   "metadata": {},
   "outputs": [],
   "source": [
    "def split(labels: list, videos: list, audio: list, split_size: float) -> tuple:\n",
    "    if not len(labels) == len(videos) == len(audio):\n",
    "        raise Exception(\"Labels, visual features and audio have not the same size\")\n",
    "    if split_size >= 1.0 or split_size <= 0.0:\n",
    "        raise Exception(\"Split size is out of bound\")\n",
    "    trainining_size = int(split_size * len(labels))\n",
    "    # first training, second test\n",
    "    return (\n",
    "        np.hstack([label for label in labels[:trainining_size]]),\n",
    "        np.vstack([video for video in videos[:trainining_size]]),\n",
    "        np.vstack([audio for audio in audio[:trainining_size]]),\n",
    "        np.hstack([label for label in labels[trainining_size:]]),\n",
    "        np.vstack([video for video in videos[trainining_size:]]),\n",
    "        np.vstack([audio for audio in audio[trainining_size:]]),\n",
    "    )"
   ]
  },
  {
   "cell_type": "code",
   "execution_count": 6,
   "metadata": {},
   "outputs": [],
   "source": [
    "def shuffle_lists(labels: list, audio: list, visual: list) -> tuple:\n",
    "    np.random.seed(47)\n",
    "    zipped_list = list(zip(labels, audio, visual))\n",
    "    shuffle(\n",
    "        zipped_list,\n",
    "    )\n",
    "    return zip(*zipped_list)"
   ]
  },
  {
   "cell_type": "code",
   "execution_count": 7,
   "metadata": {},
   "outputs": [],
   "source": [
    "def grid_search(model, params, param_name, x_train, y_train, x_test, y_test):\n",
    "    best_score = 0\n",
    "    for param in params:\n",
    "        a = {param_name: param}\n",
    "        model.set_params(**a)\n",
    "        model.fit(x_train, y_train)\n",
    "        preds_prob = model.predict_proba(x_test)\n",
    "        score = roc_auc_score(y_test, preds_prob[:, 1])\n",
    "        print(\"{} = {}: {}\".format(param_name, param, score))\n",
    "        # save if best\n",
    "        if score > best_score:\n",
    "            best_score = score\n",
    "            best_param = param\n",
    "    print(\"Best score: {}\".format(best_score))\n",
    "    print(\"Best param: {}\".format(best_param))\n",
    "    return best_param"
   ]
  },
  {
   "cell_type": "markdown",
   "metadata": {},
   "source": [
    "# Main Logic "
   ]
  },
  {
   "cell_type": "code",
   "execution_count": 8,
   "metadata": {},
   "outputs": [],
   "source": [
    "plots = {}"
   ]
  },
  {
   "cell_type": "code",
   "execution_count": 9,
   "metadata": {},
   "outputs": [],
   "source": [
    "labels_path = os.path.join(\"CLEAN_FEATURES\", \"labels_4_2_21\")\n",
    "video_features = os.path.join(\"CLEAN_FEATURES\", \"visual_features\")\n",
    "audio_features = os.path.join(\"CLEAN_FEATURES\", \"audio_features\")"
   ]
  },
  {
   "cell_type": "code",
   "execution_count": 10,
   "metadata": {},
   "outputs": [
    {
     "name": "stdout",
     "output_type": "stream",
     "text": [
      "Crawling data paths\n"
     ]
    }
   ],
   "source": [
    "print(\"Crawling data paths\")"
   ]
  },
  {
   "cell_type": "code",
   "execution_count": 11,
   "metadata": {},
   "outputs": [],
   "source": [
    "labels_tree = crawl_directory(labels_path)\n",
    "videos_tree = crawl_directory(video_features)\n",
    "audio_tree = crawl_directory(audio_features)"
   ]
  },
  {
   "cell_type": "code",
   "execution_count": 12,
   "metadata": {},
   "outputs": [
    {
     "name": "stdout",
     "output_type": "stream",
     "text": [
      "Total Number of features and annotations\n"
     ]
    }
   ],
   "source": [
    "print(\"Total Number of features and annotations\")"
   ]
  },
  {
   "cell_type": "code",
   "execution_count": 13,
   "metadata": {},
   "outputs": [
    {
     "name": "stdout",
     "output_type": "stream",
     "text": [
      "Labels len:  410\n",
      "Audio len:  410\n",
      "Video len:  410\n"
     ]
    }
   ],
   "source": [
    "print(\"Labels len: \", len(labels_tree))\n",
    "print(\"Audio len: \", len(audio_tree))\n",
    "print(\"Video len: \", len(videos_tree))"
   ]
  },
  {
   "cell_type": "code",
   "execution_count": 14,
   "metadata": {},
   "outputs": [
    {
     "name": "stdout",
     "output_type": "stream",
     "text": [
      "Sorting both lists with paths, in order to be in parallel\n"
     ]
    }
   ],
   "source": [
    "print(\"Sorting both lists with paths, in order to be in parallel\")"
   ]
  },
  {
   "cell_type": "code",
   "execution_count": 15,
   "metadata": {},
   "outputs": [],
   "source": [
    "# Sorting files lists in order to be in parallel\n",
    "\n",
    "labels_tree.sort()\n",
    "videos_tree.sort()\n",
    "audio_tree.sort()"
   ]
  },
  {
   "cell_type": "code",
   "execution_count": 16,
   "metadata": {},
   "outputs": [
    {
     "data": {
      "text/plain": [
       "True"
      ]
     },
     "execution_count": 16,
     "metadata": {},
     "output_type": "execute_result"
    }
   ],
   "source": [
    "len(labels_tree) == len(videos_tree) == len(audio_tree)"
   ]
  },
  {
   "cell_type": "markdown",
   "metadata": {},
   "source": [
    "Tranformations\n"
   ]
  },
  {
   "cell_type": "code",
   "execution_count": 17,
   "metadata": {},
   "outputs": [],
   "source": [
    "# shuffling files lists in parallel\n",
    "labels_tree, audio_tree, videos_tree = shuffle_lists(\n",
    "    labels_tree, audio_tree, videos_tree\n",
    ")"
   ]
  },
  {
   "cell_type": "markdown",
   "metadata": {},
   "source": [
    "Loading Matrices "
   ]
  },
  {
   "cell_type": "code",
   "execution_count": 18,
   "metadata": {},
   "outputs": [
    {
     "name": "stdout",
     "output_type": "stream",
     "text": [
      "Nunpy to Matrices have start\n",
      "File in index 398 with name CLEAN_FEATURES/visual_features/downhill/Matt Jones - DOWNHILL BRAKELESS BMX IS DANGEROUS!!.mp4.npy Not loaded\n",
      "CPU times: user 1.2 s, sys: 420 ms, total: 1.62 s\n",
      "Wall time: 3.22 s\n"
     ]
    }
   ],
   "source": [
    "%%time\n",
    "files_sizes, labels_matrix, visual_matrix, audio_matrix = load_npys_to_matrics(\n",
    "    labels_tree, videos_tree, audio_tree\n",
    ")"
   ]
  },
  {
   "cell_type": "code",
   "execution_count": 19,
   "metadata": {},
   "outputs": [
    {
     "data": {
      "text/plain": [
       "336"
      ]
     },
     "execution_count": 19,
     "metadata": {},
     "output_type": "execute_result"
    }
   ],
   "source": [
    "len(visual_matrix)"
   ]
  },
  {
   "cell_type": "code",
   "execution_count": 20,
   "metadata": {},
   "outputs": [
    {
     "data": {
      "text/plain": [
       "336"
      ]
     },
     "execution_count": 20,
     "metadata": {},
     "output_type": "execute_result"
    }
   ],
   "source": [
    "len(audio_matrix)"
   ]
  },
  {
   "cell_type": "code",
   "execution_count": 21,
   "metadata": {},
   "outputs": [],
   "source": [
    "train_labels, train_visual, train_audio, test_labels, test_visual, test_audio = split(\n",
    "    labels_matrix, visual_matrix, audio_matrix, 0.8\n",
    ")"
   ]
  },
  {
   "cell_type": "code",
   "execution_count": 22,
   "metadata": {},
   "outputs": [
    {
     "name": "stdout",
     "output_type": "stream",
     "text": [
      "TRAIN SHAPES\n",
      "Labels Shape (127972,)\n",
      "Visual Shape (127972, 88)\n",
      "Audio Shape (127972, 136)\n"
     ]
    }
   ],
   "source": [
    "print(\"TRAIN SHAPES\")\n",
    "print(f\"Labels Shape {train_labels.shape}\")\n",
    "print(f\"Visual Shape {train_visual.shape}\")\n",
    "print(f\"Audio Shape {train_audio.shape}\")"
   ]
  },
  {
   "cell_type": "code",
   "execution_count": 23,
   "metadata": {},
   "outputs": [
    {
     "name": "stdout",
     "output_type": "stream",
     "text": [
      "TEST SHAPES\n",
      "Labels Shape (31113,)\n",
      "Visual Shape (31113, 88)\n",
      "Audio Shape (31113, 136)\n"
     ]
    }
   ],
   "source": [
    "print(\"TEST SHAPES\")\n",
    "print(f\"Labels Shape {test_labels.shape}\")\n",
    "print(f\"Visual Shape {test_visual.shape}\")\n",
    "print(f\"Audio Shape {test_audio.shape}\")"
   ]
  },
  {
   "cell_type": "code",
   "execution_count": 24,
   "metadata": {},
   "outputs": [],
   "source": [
    "scaler_1 = StandardScaler()\n",
    "train_audio = scaler_1.fit_transform(train_audio)\n",
    "\n",
    "test_audio = scaler_1.transform(test_audio)\n",
    "\n",
    "scaler_2 = StandardScaler()\n",
    "train_visual = scaler_2.fit_transform(train_visual)\n",
    "\n",
    "test_visual = scaler_2.transform(test_visual)\n",
    "\n",
    "train_union = np.concatenate((train_audio, train_visual), axis=1)\n",
    "test_union = np.concatenate((test_audio, test_visual), axis=1)"
   ]
  },
  {
   "cell_type": "markdown",
   "metadata": {},
   "source": [
    "# Random  Experiment"
   ]
  },
  {
   "cell_type": "code",
   "execution_count": 79,
   "metadata": {},
   "outputs": [],
   "source": [
    "random_pred_probs = np.random.rand(test_audio.shape[0], 1)"
   ]
  },
  {
   "cell_type": "code",
   "execution_count": 80,
   "metadata": {},
   "outputs": [],
   "source": [
    "random_pred_probs = np.concatenate((random_pred_probs, 1 - random_pred_probs), axis=1)"
   ]
  },
  {
   "cell_type": "code",
   "execution_count": 81,
   "metadata": {},
   "outputs": [
    {
     "data": {
      "text/plain": [
       "array([[0.26311827, 0.73688173],\n",
       "       [0.1201094 , 0.8798906 ],\n",
       "       [0.527481  , 0.472519  ],\n",
       "       ...,\n",
       "       [0.50671844, 0.49328156],\n",
       "       [0.68807473, 0.31192527],\n",
       "       [0.70738536, 0.29261464]])"
      ]
     },
     "execution_count": 81,
     "metadata": {},
     "output_type": "execute_result"
    }
   ],
   "source": [
    "random_pred_probs"
   ]
  },
  {
   "cell_type": "code",
   "execution_count": 82,
   "metadata": {},
   "outputs": [],
   "source": [
    "random_preds = random_pred_probs.copy()\n",
    "random_preds[random_preds > 0.5] = 1\n",
    "random_preds[random_preds <= 0.5] = 0"
   ]
  },
  {
   "cell_type": "code",
   "execution_count": 83,
   "metadata": {},
   "outputs": [
    {
     "data": {
      "text/plain": [
       "array([0, 0, 0, ..., 0, 0, 0])"
      ]
     },
     "execution_count": 83,
     "metadata": {},
     "output_type": "execute_result"
    }
   ],
   "source": [
    "test_labels"
   ]
  },
  {
   "cell_type": "code",
   "execution_count": 84,
   "metadata": {},
   "outputs": [
    {
     "data": {
      "text/plain": [
       "array([1., 1., 0., ..., 0., 0., 0.])"
      ]
     },
     "execution_count": 84,
     "metadata": {},
     "output_type": "execute_result"
    }
   ],
   "source": [
    "random_preds[:, 1]"
   ]
  },
  {
   "cell_type": "code",
   "execution_count": 87,
   "metadata": {},
   "outputs": [
    {
     "name": "stdout",
     "output_type": "stream",
     "text": [
      "Random F1 is: 47.60 %\n"
     ]
    }
   ],
   "source": [
    "print(\n",
    "    f\"Random F1 is: {f1_score(test_labels, random_preds[:, 1], average='macro') * 100:.2f} %\"\n",
    ")"
   ]
  },
  {
   "cell_type": "code",
   "execution_count": 88,
   "metadata": {},
   "outputs": [
    {
     "name": "stdout",
     "output_type": "stream",
     "text": [
      "ROC AUC score: 0.49672420398891404\n"
     ]
    }
   ],
   "source": [
    "print(\"ROC AUC score: {}\".format(roc_auc_score(test_labels, random_pred_probs[:, 1])))"
   ]
  },
  {
   "cell_type": "code",
   "execution_count": 55,
   "metadata": {},
   "outputs": [
    {
     "name": "stdout",
     "output_type": "stream",
     "text": [
      " Confusion Matrix for Random :\n",
      " [[10868 10879]\n",
      " [ 4679  4687]]\n"
     ]
    }
   ],
   "source": [
    "print(\n",
    "    f\" Confusion Matrix for Random :\\n {confusion_matrix(test_labels, random_preds[:, 1])}\"\n",
    ")"
   ]
  },
  {
   "cell_type": "code",
   "execution_count": 58,
   "metadata": {},
   "outputs": [],
   "source": [
    "plots[\"Random\"] = roc_curve(test_labels, random_pred_probs[:, 1])"
   ]
  },
  {
   "cell_type": "code",
   "execution_count": 59,
   "metadata": {},
   "outputs": [
    {
     "data": {
      "image/png": "[encoded data removed]",
      "text/plain": [
       "<Figure size 432x288 with 1 Axes>"
      ]
     },
     "metadata": {
      "needs_background": "light"
     },
     "output_type": "display_data"
    }
   ],
   "source": [
    "fpr, tpr, _ = roc_curve(test_labels, random_pred_probs[:, 1])\n",
    "pyplot.plot(fpr, tpr, marker=\".\", label=\"Random\")\n",
    "pyplot.xlabel(\"False Positive Rate\")\n",
    "pyplot.ylabel(\"True Positive Rate\")\n",
    "# show the legend\n",
    "pyplot.legend()\n",
    "# show the plot\n",
    "pyplot.show()"
   ]
  },
  {
   "cell_type": "markdown",
   "metadata": {},
   "source": [
    "## Logistic Regression"
   ]
  },
  {
   "cell_type": "code",
   "execution_count": 72,
   "metadata": {},
   "outputs": [
    {
     "name": "stdout",
     "output_type": "stream",
     "text": [
      "C = 0.1: 0.6276153916330975\n",
      "C = 1: 0.6276151412432773\n",
      "C = 100: 0.6276149546783133\n",
      "C = 1000: 0.6276128042716228\n",
      "C = 10: 0.627610103989249\n",
      "C = 0.01: 0.6273993837719962\n",
      "C = 0.001: 0.6252322304211633\n",
      "Best score: 0.6276153916330975\n",
      "Best param: 0.1\n",
      "--> F1: Logistic Regression on Audio features only  is: 41.40 %\n",
      "--> ROC AUC: Logistic Regression on Audio features only  is: 62.76 %\n"
     ]
    }
   ],
   "source": [
    "model = LogisticRegression(solver=\"lbfgs\", max_iter=100000, random_state=42)\n",
    "C_param_range = {0.001, 0.01, 0.1, 1, 10, 100, 1000}\n",
    "c = grid_search(\n",
    "    model, C_param_range, \"C\", train_audio, train_labels, test_audio, test_labels\n",
    ")\n",
    "audio_lR = LogisticRegression(C=c, solver=\"lbfgs\", max_iter=100000, random_state=42)\n",
    "audio_lR.fit(train_audio, train_labels)\n",
    "preds = audio_lR.predict(test_audio)\n",
    "print(\n",
    "    f\"--> F1: Logistic Regression on Audio features only  is: {f1_score(test_labels, preds, average='macro') * 100:.2f} %\"\n",
    ")\n",
    "preds_prob = audio_lR.predict_proba(test_audio)\n",
    "print(\n",
    "    f\"--> ROC AUC: Logistic Regression on Audio features only  is: {roc_auc_score(test_labels, preds_prob[:, 1]) * 100:.2f} %\"\n",
    ")"
   ]
  },
  {
   "cell_type": "code",
   "execution_count": 73,
   "metadata": {},
   "outputs": [
    {
     "name": "stdout",
     "output_type": "stream",
     "text": [
      "C = 0.1: 0.669047063771371\n",
      "C = 1: 0.6689710434581383\n",
      "C = 100: 0.6689310989174214\n",
      "C = 1000: 0.6689398380131043\n",
      "C = 10: 0.6689376532391835\n",
      "C = 0.01: 0.6697378794658951\n",
      "C = 0.001: 0.6718344768930995\n",
      "Best score: 0.6718344768930995\n",
      "Best param: 0.001\n",
      "--> F1: Logistic Regression on visual features only  is: 44.62 %\n",
      "--> ROC AUC: Logistic Regression on visual features only  is: 67.18 %\n"
     ]
    }
   ],
   "source": [
    "model = LogisticRegression(solver=\"lbfgs\", max_iter=100000, random_state=42)\n",
    "C_param_range = {0.001, 0.01, 0.1, 1, 10, 100, 1000}\n",
    "c = grid_search(\n",
    "    model, C_param_range, \"C\", train_visual, train_labels, test_visual, test_labels\n",
    ")\n",
    "visual_lR = LogisticRegression(C=c, solver=\"lbfgs\", max_iter=100000, random_state=42)\n",
    "visual_lR.fit(train_visual, train_labels)\n",
    "preds = visual_lR.predict(test_visual)\n",
    "print(\n",
    "    f\"--> F1: Logistic Regression on visual features only  is: {f1_score(test_labels, preds, average='macro') * 100:.2f} %\"\n",
    ")\n",
    "preds_prob = visual_lR.predict_proba(test_visual)\n",
    "print(\n",
    "    f\"--> ROC AUC: Logistic Regression on visual features only  is: {roc_auc_score(test_labels, preds_prob[:, 1]) * 100:.2f} %\"\n",
    ")"
   ]
  },
  {
   "cell_type": "code",
   "execution_count": 74,
   "metadata": {},
   "outputs": [
    {
     "name": "stdout",
     "output_type": "stream",
     "text": [
      "C = 0.1: 0.6708060424385608\n",
      "C = 1: 0.6707075852336031\n",
      "C = 100: 0.6707104868097539\n",
      "C = 1000: 0.670707197374862\n",
      "C = 10: 0.6707079534539268\n",
      "C = 0.01: 0.6714948893817543\n",
      "C = 0.001: 0.6738275994997348\n",
      "Best score: 0.6738275994997348\n",
      "Best param: 0.001\n",
      "--> F1: Logistic Regression on visual features only  is: 49.42 %\n",
      "--> ROC AUC: Logistic Regression on visual features only  is: 67.38 %\n"
     ]
    }
   ],
   "source": [
    "model = LogisticRegression(solver=\"lbfgs\", max_iter=100000, random_state=42)\n",
    "C_param_range = {0.001, 0.01, 0.1, 1, 10, 100, 1000}\n",
    "c = grid_search(\n",
    "    model, C_param_range, \"C\", train_union, train_labels, test_union, test_labels\n",
    ")\n",
    "visual_lR = LogisticRegression(C=c, solver=\"lbfgs\", max_iter=100000, random_state=42)\n",
    "visual_lR.fit(train_union, train_labels)\n",
    "preds = visual_lR.predict(test_union)\n",
    "print(\n",
    "    f\"--> F1: Logistic Regression on visual features only  is: {f1_score(test_labels, preds, average='macro') * 100:.2f} %\"\n",
    ")\n",
    "preds_prob = visual_lR.predict_proba(test_union)\n",
    "print(\n",
    "    f\"--> ROC AUC: Logistic Regression on visual features only  is: {roc_auc_score(test_labels, preds_prob[:, 1]) * 100:.2f} %\"\n",
    ")"
   ]
  },
  {
   "cell_type": "markdown",
   "metadata": {},
   "source": [
    "### KNN"
   ]
  },
  {
   "cell_type": "code",
   "execution_count": 75,
   "metadata": {},
   "outputs": [
    {
     "name": "stdout",
     "output_type": "stream",
     "text": [
      "--> F1: KNN on Audio features only  is: 54.56 %\n",
      "--> ROC AUC: KNN on Audio features only  is: 59.28 %\n"
     ]
    }
   ],
   "source": [
    "audio_knn = KNeighborsClassifier(n_neighbors=5)\n",
    "audio_knn.fit(train_audio, train_labels)\n",
    "preds = audio_knn.predict(test_audio)\n",
    "print(\n",
    "    f\"--> F1: KNN on Audio features only  is: {f1_score(test_labels, preds, average='macro') * 100:.2f} %\"\n",
    ")\n",
    "preds_prob = audio_knn.predict_proba(test_audio)\n",
    "print(\n",
    "    f\"--> ROC AUC: KNN on Audio features only  is: {roc_auc_score(test_labels, preds_prob[:, 1]) * 100:.2f} %\"\n",
    ")"
   ]
  },
  {
   "cell_type": "code",
   "execution_count": 76,
   "metadata": {},
   "outputs": [
    {
     "name": "stdout",
     "output_type": "stream",
     "text": [
      "--> F1: KNN on Visual features only  is: 56.26 %\n",
      "--> ROC AUC: KNN on Visual features only  is: 60.71 %\n"
     ]
    }
   ],
   "source": [
    "visual_knn = KNeighborsClassifier(n_neighbors=5)\n",
    "visual_knn.fit(train_visual, train_labels)\n",
    "preds = visual_knn.predict(test_visual)\n",
    "print(\n",
    "    f\"--> F1: KNN on Visual features only  is: {f1_score(test_labels, preds, average='macro') * 100:.2f} %\"\n",
    ")\n",
    "preds_prob = visual_knn.predict_proba(test_visual)\n",
    "print(\n",
    "    f\"--> ROC AUC: KNN on Visual features only  is: {roc_auc_score(test_labels, preds_prob[:, 1]) * 100:.2f} %\"\n",
    ")"
   ]
  },
  {
   "cell_type": "code",
   "execution_count": 77,
   "metadata": {},
   "outputs": [
    {
     "name": "stdout",
     "output_type": "stream",
     "text": [
      "--> F1: KNN on Fused features is: 57.65 %\n",
      "--> ROC AUC: KNN on Fused features is: 62.55 %\n"
     ]
    }
   ],
   "source": [
    "fused_knn = KNeighborsClassifier(n_neighbors=5)\n",
    "fused_knn.fit(train_union, train_labels)\n",
    "preds = fused_knn.predict(test_union)\n",
    "print(\n",
    "    f\"--> F1: KNN on Fused features is: {f1_score(test_labels, preds, average='macro') * 100:.2f} %\"\n",
    ")\n",
    "preds_prob = fused_knn.predict_proba(test_union)\n",
    "print(\n",
    "    f\"--> ROC AUC: KNN on Fused features is: {roc_auc_score(test_labels, preds_prob[:, 1]) * 100:.2f} %\"\n",
    ")"
   ]
  },
  {
   "cell_type": "markdown",
   "metadata": {},
   "source": [
    "## Random Forest"
   ]
  },
  {
   "cell_type": "code",
   "execution_count": 25,
   "metadata": {},
   "outputs": [
    {
     "name": "stdout",
     "output_type": "stream",
     "text": [
      "--> F1: Random Forest on Audio features only  is: 57.77 %\n",
      "--> ROC AUC: Random Forest on Audio features only  is: 66.72 %\n"
     ]
    }
   ],
   "source": [
    "audio_model = BalancedRandomForestClassifier(\n",
    "    criterion=\"gini\",\n",
    "    n_estimators=400,\n",
    "    class_weight=\"balanced_subsample\",\n",
    "    random_state=42,\n",
    ")\n",
    "audio_model.fit(train_audio, train_labels)\n",
    "preds = audio_model.predict(test_audio)\n",
    "print(\n",
    "    f\"--> F1: Random Forest on Audio features only  is: {f1_score(test_labels, preds, average='macro') * 100:.2f} %\"\n",
    ")\n",
    "preds_prob = audio_model.predict_proba(test_audio)\n",
    "print(\n",
    "    f\"--> ROC AUC: Random Forest on Audio features only  is: {roc_auc_score(test_labels, preds_prob[:, 1]) * 100:.2f} %\"\n",
    ")"
   ]
  },
  {
   "cell_type": "code",
   "execution_count": 26,
   "metadata": {},
   "outputs": [
    {
     "name": "stdout",
     "output_type": "stream",
     "text": [
      "--> F1: Random Forest on Visual features only  is: 60.41 %\n",
      "--> ROC AUC: Random Forest on Visual features only  is: 69.86 %\n"
     ]
    }
   ],
   "source": [
    "visual_model = BalancedRandomForestClassifier(\n",
    "    criterion=\"gini\",\n",
    "    n_estimators=400,\n",
    "    class_weight=\"balanced_subsample\",\n",
    "    random_state=42,\n",
    ")\n",
    "visual_model.fit(train_visual, train_labels)\n",
    "preds = visual_model.predict(test_visual)\n",
    "print(\n",
    "    f\"--> F1: Random Forest on Visual features only  is: {f1_score(test_labels, preds, average='macro') * 100:.2f} %\"\n",
    ")\n",
    "preds_prob = visual_model.predict_proba(test_visual)\n",
    "print(\n",
    "    f\"--> ROC AUC: Random Forest on Visual features only  is: {roc_auc_score(test_labels, preds_prob[:, 1]) * 100:.2f} %\"\n",
    ")"
   ]
  },
  {
   "cell_type": "code",
   "execution_count": 27,
   "metadata": {},
   "outputs": [
    {
     "name": "stdout",
     "output_type": "stream",
     "text": [
      "--> F1: Random Forest on Fused features is: 60.58 %\n",
      "--> ROC AUC: Random Forest on Fused features is: 71.82 %\n"
     ]
    }
   ],
   "source": [
    "fusion_model = BalancedRandomForestClassifier(\n",
    "    criterion=\"gini\",\n",
    "    n_estimators=400,\n",
    "    class_weight=\"balanced_subsample\",\n",
    "    random_state=42,\n",
    ")\n",
    "fusion_model.fit(train_union, train_labels)\n",
    "preds = fusion_model.predict(test_union)\n",
    "print(\n",
    "    f\"--> F1: Random Forest on Fused features is: {f1_score(test_labels, preds, average='macro') * 100:.2f} %\"\n",
    ")\n",
    "preds_prob = fusion_model.predict_proba(test_union)\n",
    "print(\n",
    "    f\"--> ROC AUC: Random Forest on Fused features is: {roc_auc_score(test_labels, preds_prob[:, 1]) * 100:.2f} %\"\n",
    ")"
   ]
  },
  {
   "cell_type": "code",
   "execution_count": 28,
   "metadata": {},
   "outputs": [],
   "source": [
    "import pickle\n",
    "\n",
    "pickle.dump(fusion_model, open(\"fused_RF.pt\", \"wb\"))\n",
    "pickle.dump(audio_model, open(\"audio_RF.pt\", \"wb\"))\n",
    "pickle.dump(visual_model, open(\"visual_RF.pt\", \"wb\"))"
   ]
  },
  {
   "cell_type": "code",
   "execution_count": 30,
   "metadata": {},
   "outputs": [],
   "source": [
    "np.savetxt(\"test_union.txt\", test_union)\n",
    "np.savetxt(\"test_labels.txt\", test_labels)"
   ]
  },
  {
   "cell_type": "markdown",
   "metadata": {},
   "source": [
    "### Bayes"
   ]
  },
  {
   "cell_type": "code",
   "execution_count": 78,
   "metadata": {},
   "outputs": [
    {
     "name": "stdout",
     "output_type": "stream",
     "text": [
      "--> F1: Bayes on Audio features only  is: 51.71 %\n",
      "--> ROC AUC: Bayes on Audio features only  is: 59.47 %\n",
      "--> F1: Bayes on Visual features only  is: 48.32 %\n",
      "--> ROC AUC: Bayes on Visual features only  is: 64.02 %\n",
      "--> F1: Bayes on Fused features is: 51.62 %\n",
      "--> ROC AUC: Bayes on Fused features is: 63.35 %\n"
     ]
    }
   ],
   "source": [
    "from sklearn.naive_bayes import GaussianNB\n",
    "\n",
    "nb_audio = GaussianNB()\n",
    "nb_audio.fit(train_audio, train_labels)\n",
    "preds = nb_audio.predict(test_audio)\n",
    "print(\n",
    "    f\"--> F1: Bayes on Audio features only  is: {f1_score(test_labels, preds, average='macro') * 100:.2f} %\"\n",
    ")\n",
    "preds_prob = nb_audio.predict_proba(test_audio)\n",
    "print(\n",
    "    f\"--> ROC AUC: Bayes on Audio features only  is: {roc_auc_score(test_labels, preds_prob[:, 1]) * 100:.2f} %\"\n",
    ")\n",
    "\n",
    "nb_visual = GaussianNB()\n",
    "nb_visual.fit(train_visual, train_labels)\n",
    "preds = nb_visual.predict(test_visual)\n",
    "print(\n",
    "    f\"--> F1: Bayes on Visual features only  is: {f1_score(test_labels, preds, average='macro') * 100:.2f} %\"\n",
    ")\n",
    "preds_prob = nb_visual.predict_proba(test_visual)\n",
    "print(\n",
    "    f\"--> ROC AUC: Bayes on Visual features only  is: {roc_auc_score(test_labels, preds_prob[:, 1]) * 100:.2f} %\"\n",
    ")\n",
    "\n",
    "\n",
    "nb_fusion = GaussianNB()\n",
    "nb_fusion.fit(train_union, train_labels)\n",
    "preds = nb_fusion.predict(test_union)\n",
    "print(\n",
    "    f\"--> F1: Bayes on Fused features is: {f1_score(test_labels, preds, average='macro') * 100:.2f} %\"\n",
    ")\n",
    "preds_prob = nb_fusion.predict_proba(test_union)\n",
    "print(\n",
    "    f\"--> ROC AUC: Bayes on Fused features is: {roc_auc_score(test_labels, preds_prob[:, 1]) * 100:.2f} %\"\n",
    ")"
   ]
  },
  {
   "cell_type": "markdown",
   "metadata": {},
   "source": [
    "### Decision Tree"
   ]
  },
  {
   "cell_type": "code",
   "execution_count": 35,
   "metadata": {},
   "outputs": [
    {
     "name": "stdout",
     "output_type": "stream",
     "text": [
      "--> F1: DT on Audio features only  is: 41.81 %\n",
      "--> ROC AUC: DT on Audio features only  is: 60.58 %\n",
      "--> F1: DT on Visual features only  is: 45.60 %\n",
      "--> ROC AUC: DT on Visual features only  is: 66.32 %\n",
      "--> F1: DT on Fused features is: 45.57 %\n",
      "--> ROC AUC: DT on Fused features is: 66.48 %\n"
     ]
    }
   ],
   "source": [
    "dt_audio = DecisionTreeClassifier(criterion=\"entropy\", max_depth=6, random_state=42)\n",
    "dt_audio.fit(train_audio, train_labels)\n",
    "preds = dt_audio.predict(test_audio)\n",
    "print(\n",
    "    f\"--> F1: DT on Audio features only  is: {f1_score(test_labels, preds, average='macro') * 100:.2f} %\"\n",
    ")\n",
    "preds_prob = dt_audio.predict_proba(test_audio)\n",
    "print(\n",
    "    f\"--> ROC AUC: DT on Audio features only  is: {roc_auc_score(test_labels, preds_prob[:, 1]) * 100:.2f} %\"\n",
    ")\n",
    "\n",
    "dt_visual = DecisionTreeClassifier(criterion=\"entropy\", max_depth=6, random_state=42)\n",
    "dt_visual.fit(train_visual, train_labels)\n",
    "preds = dt_visual.predict(test_visual)\n",
    "print(\n",
    "    f\"--> F1: DT on Visual features only  is: {f1_score(test_labels, preds, average='macro') * 100:.2f} %\"\n",
    ")\n",
    "preds_prob = dt_visual.predict_proba(test_visual)\n",
    "print(\n",
    "    f\"--> ROC AUC: DT on Visual features only  is: {roc_auc_score(test_labels, preds_prob[:, 1]) * 100:.2f} %\"\n",
    ")\n",
    "\n",
    "\n",
    "dt_fusion = DecisionTreeClassifier(criterion=\"entropy\", max_depth=6, random_state=42)\n",
    "dt_fusion.fit(train_union, train_labels)\n",
    "preds = dt_fusion.predict(test_union)\n",
    "print(\n",
    "    f\"--> F1: DT on Fused features is: {f1_score(test_labels, preds, average='macro') * 100:.2f} %\"\n",
    ")\n",
    "preds_prob = dt_fusion.predict_proba(test_union)\n",
    "print(\n",
    "    f\"--> ROC AUC: DT on Fused features is: {roc_auc_score(test_labels, preds_prob[:, 1]) * 100:.2f} %\"\n",
    ")"
   ]
  },
  {
   "cell_type": "markdown",
   "metadata": {},
   "source": [
    "### XGBOOST"
   ]
  },
  {
   "cell_type": "code",
   "execution_count": 29,
   "metadata": {},
   "outputs": [],
   "source": [
    "labels_dist = Counter(train_labels)\n",
    "imbalance_rate = labels_dist[0] / labels_dist[1]"
   ]
  },
  {
   "cell_type": "code",
   "execution_count": 30,
   "metadata": {},
   "outputs": [
    {
     "name": "stderr",
     "output_type": "stream",
     "text": [
      "/home/lorki/anaconda3/lib/python3.7/site-packages/xgboost/sklearn.py:888: UserWarning: The use of label encoder in XGBClassifier is deprecated and will be removed in a future release. To remove this warning, do the following: 1) Pass option use_label_encoder=False when constructing XGBClassifier object; and 2) Encode your labels (y) as integers starting with 0, i.e. 0, 1, 2, ..., [num_class - 1].\n",
      "  warnings.warn(label_encoder_deprecation_msg, UserWarning)\n"
     ]
    },
    {
     "name": "stdout",
     "output_type": "stream",
     "text": [
      "--> F1: XGB on Audio features only  is: 59.77 %\n",
      "--> ROC AUC: XGB on Audio features only  is: 65.32 %\n"
     ]
    }
   ],
   "source": [
    "audio_xgb = XGBClassifier(\n",
    "    n_estimators=400, scale_pos_weight=imbalance_rate, verbosity=0, seed=42\n",
    ")\n",
    "audio_xgb.fit(train_audio, train_labels)\n",
    "preds = audio_xgb.predict(test_audio)\n",
    "print(\n",
    "    f\"--> F1: XGB on Audio features only  is: {f1_score(test_labels, preds, average='macro') * 100:.2f} %\"\n",
    ")\n",
    "preds_prob = audio_xgb.predict_proba(test_audio)\n",
    "print(\n",
    "    f\"--> ROC AUC: XGB on Audio features only  is: {roc_auc_score(test_labels, preds_prob[:, 1]) * 100:.2f} %\"\n",
    ")"
   ]
  },
  {
   "cell_type": "code",
   "execution_count": 31,
   "metadata": {},
   "outputs": [
    {
     "name": "stderr",
     "output_type": "stream",
     "text": [
      "/home/lorki/anaconda3/lib/python3.7/site-packages/xgboost/sklearn.py:888: UserWarning: The use of label encoder in XGBClassifier is deprecated and will be removed in a future release. To remove this warning, do the following: 1) Pass option use_label_encoder=False when constructing XGBClassifier object; and 2) Encode your labels (y) as integers starting with 0, i.e. 0, 1, 2, ..., [num_class - 1].\n",
      "  warnings.warn(label_encoder_deprecation_msg, UserWarning)\n"
     ]
    },
    {
     "name": "stdout",
     "output_type": "stream",
     "text": [
      "--> F1: XGB on Visual features only  is: 60.41 %\n",
      "--> ROC AUC: XGB on Visual features only  is: 66.75 %\n"
     ]
    }
   ],
   "source": [
    "visual_xgb = XGBClassifier(\n",
    "    n_estimators=400, scale_pos_weight=imbalance_rate, verbosity=0, seed=42\n",
    ")\n",
    "visual_xgb.fit(train_visual, train_labels)\n",
    "preds = visual_xgb.predict(test_visual)\n",
    "print(\n",
    "    f\"--> F1: XGB on Visual features only  is: {f1_score(test_labels, preds, average='macro') * 100:.2f} %\"\n",
    ")\n",
    "preds_prob = visual_xgb.predict_proba(test_visual)\n",
    "print(\n",
    "    f\"--> ROC AUC: XGB on Visual features only  is: {roc_auc_score(test_labels, preds_prob[:, 1]) * 100:.2f} %\"\n",
    ")"
   ]
  },
  {
   "cell_type": "code",
   "execution_count": 32,
   "metadata": {},
   "outputs": [
    {
     "name": "stderr",
     "output_type": "stream",
     "text": [
      "/home/lorki/anaconda3/lib/python3.7/site-packages/xgboost/sklearn.py:888: UserWarning: The use of label encoder in XGBClassifier is deprecated and will be removed in a future release. To remove this warning, do the following: 1) Pass option use_label_encoder=False when constructing XGBClassifier object; and 2) Encode your labels (y) as integers starting with 0, i.e. 0, 1, 2, ..., [num_class - 1].\n",
      "  warnings.warn(label_encoder_deprecation_msg, UserWarning)\n"
     ]
    },
    {
     "name": "stdout",
     "output_type": "stream",
     "text": [
      "--> F1: XGB on Fused features is: 62.34 %\n",
      "--> ROC AUC: XGB on Fused features is: 69.61 %\n"
     ]
    }
   ],
   "source": [
    "fusion_xgb = XGBClassifier(\n",
    "    n_estimators=400, scale_pos_weight=imbalance_rate, verbosity=0, seed=42\n",
    ")\n",
    "fusion_xgb.fit(train_union, train_labels)\n",
    "preds = fusion_xgb.predict(test_union)\n",
    "print(\n",
    "    f\"--> F1: XGB on Fused features is: {f1_score(test_labels, preds, average='macro') * 100:.2f} %\"\n",
    ")\n",
    "preds_prob = fusion_xgb.predict_proba(test_union)\n",
    "print(\n",
    "    f\"--> ROC AUC: XGB on Fused features is: {roc_auc_score(test_labels, preds_prob[:, 1]) * 100:.2f} %\"\n",
    ")"
   ]
  },
  {
   "cell_type": "code",
   "execution_count": 33,
   "metadata": {},
   "outputs": [],
   "source": [
    "pickle.dump(fusion_xgb, open(\"fused_xgb.pt\", \"wb\"))\n",
    "pickle.dump(audio_xgb, open(\"audio_xgb.pt\", \"wb\"))\n",
    "pickle.dump(visual_xgb, open(\"visual_xgb.pt\", \"wb\"))"
   ]
  },
  {
   "cell_type": "markdown",
   "metadata": {},
   "source": [
    "## Loading CLassifiers"
   ]
  },
  {
   "cell_type": "code",
   "execution_count": null,
   "metadata": {},
   "outputs": [],
   "source": [
    "import pickle\n",
    "\n",
    "fusion_model = pickle.load(open(\"fused_RF.pt\", \"rb\"))\n",
    "audio_model = pickle.load(open(\"audio_RF.pt\", \"rb\"))\n",
    "visual_model = pickle.load(open(\"visual_RF.pt\", \"rb\"))\n",
    "\n",
    "fusion_xgb = pickle.load(open(\"fused_xgb.pt\", \"rb\"))\n",
    "audio_xgb = pickle.load(open(\"audio_xgb.pt\", \"rb\"))\n",
    "visual_xgb = pickle.load(open(\"visual_xgb.pt\", \"rb\"))"
   ]
  },
  {
   "cell_type": "markdown",
   "metadata": {},
   "source": [
    "### Basic Classification Results"
   ]
  },
  {
   "cell_type": "code",
   "execution_count": 64,
   "metadata": {},
   "outputs": [
    {
     "name": "stdout",
     "output_type": "stream",
     "text": [
      "[[12488  9259]\n",
      " [ 2674  6692]]\n"
     ]
    },
    {
     "data": {
      "image/png": "[encoded data removed]",
      "text/plain": [
       "<Figure size 720x720 with 2 Axes>"
      ]
     },
     "metadata": {
      "needs_background": "light"
     },
     "output_type": "display_data"
    }
   ],
   "source": [
    "import matplotlib.pyplot as plt\n",
    "from sklearn.metrics import plot_confusion_matrix\n",
    "\n",
    "classifier = fusion_model\n",
    "preds = fusion_model.predict(test_union)\n",
    "\n",
    "np.set_printoptions(precision=2)\n",
    "fig, ax = plt.subplots(figsize=(10, 10))\n",
    "disp = plot_confusion_matrix(\n",
    "    classifier, test_union, test_labels, cmap=plt.cm.Blues, ax=ax\n",
    ")\n",
    "# disp.ax_.set_title(\"Normalized confusion matrix\", fontsize=14)\n",
    "print(disp.confusion_matrix)\n",
    "\n",
    "plt.savefig(\"confusion_matrix\", dpi=150)\n",
    "plt.show()"
   ]
  },
  {
   "cell_type": "code",
   "execution_count": 65,
   "metadata": {
    "scrolled": true
   },
   "outputs": [
    {
     "name": "stdout",
     "output_type": "stream",
     "text": [
      "              precision    recall  f1-score   support\n",
      "\n",
      "           0       0.82      0.57      0.68     21747\n",
      "           1       0.42      0.71      0.53      9366\n",
      "\n",
      "    accuracy                           0.62     31113\n",
      "   macro avg       0.62      0.64      0.60     31113\n",
      "weighted avg       0.70      0.62      0.63     31113\n",
      "\n"
     ]
    }
   ],
   "source": [
    "from sklearn.metrics import classification_report\n",
    "\n",
    "print(classification_report(test_labels, preds))"
   ]
  },
  {
   "cell_type": "code",
   "execution_count": 52,
   "metadata": {},
   "outputs": [
    {
     "data": {
      "image/png": "[encoded data removed]",
      "text/plain": [
       "<Figure size 1080x720 with 1 Axes>"
      ]
     },
     "metadata": {
      "needs_background": "light"
     },
     "output_type": "display_data"
    }
   ],
   "source": [
    "import matplotlib.pyplot as plt\n",
    "from sklearn.metrics import auc\n",
    "\n",
    "plt.figure(figsize=(15, 10))\n",
    "\n",
    "preds_prob = fusion_model.predict_proba(test_union)\n",
    "fpr, tpr, _ = roc_curve(test_labels, preds_prob[:, 1])\n",
    "plt.plot(\n",
    "    fpr,\n",
    "    tpr,\n",
    "    color=\"darkorange\",\n",
    "    lw=2,\n",
    "    label=\"Fused Random Forest (auc = %0.3f)\" % auc(fpr, tpr),\n",
    ")\n",
    "\n",
    "preds_prob = visual_model.predict_proba(test_visual)\n",
    "fpr, tpr, _ = roc_curve(test_labels, preds_prob[:, 1])\n",
    "plt.plot(\n",
    "    fpr,\n",
    "    tpr,\n",
    "    color=\"darkgreen\",\n",
    "    lw=2,\n",
    "    label=\"Visual Random Forest (auc = %0.3f)\" % auc(fpr, tpr),\n",
    ")\n",
    "\n",
    "preds_prob = audio_model.predict_proba(test_audio)\n",
    "fpr, tpr, _ = roc_curve(test_labels, preds_prob[:, 1])\n",
    "plt.plot(\n",
    "    fpr,\n",
    "    tpr,\n",
    "    color=\"gold\",\n",
    "    lw=2,\n",
    "    label=\"Audio Random Forest (auc = %0.3f)\" % auc(fpr, tpr),\n",
    ")\n",
    "\n",
    "\n",
    "preds_prob = fusion_xgb.predict_proba(test_union)\n",
    "fpr, tpr, _ = roc_curve(test_labels, preds_prob[:, 1])\n",
    "plt.plot(fpr, tpr, color=\"navy\", lw=2, label=\"Fused XGB (auc = %0.3f)\" % auc(fpr, tpr))\n",
    "\n",
    "preds_prob = visual_xgb.predict_proba(test_visual)\n",
    "fpr, tpr, _ = roc_curve(test_labels, preds_prob[:, 1])\n",
    "plt.plot(\n",
    "    fpr, tpr, color=\"royalblue\", lw=2, label=\"Visual XGB (auc = %0.3f)\" % auc(fpr, tpr)\n",
    ")\n",
    "\n",
    "preds_prob = audio_xgb.predict_proba(test_audio)\n",
    "fpr, tpr, _ = roc_curve(test_labels, preds_prob[:, 1])\n",
    "plt.plot(fpr, tpr, color=\"red\", lw=2, label=\"Audio XGB (auc = %0.3f)\" % auc(fpr, tpr))\n",
    "\n",
    "\n",
    "plt.plot([0, 1], [0, 1], color=\"black\", lw=2, linestyle=\"--\")\n",
    "plt.xlabel(\"False Positive Rate\")\n",
    "plt.ylabel(\"True Positive Rate\")\n",
    "# plt.title(\"ROC curve of the Random Forest classifier applied on the test set\", fontsize=14)\n",
    "plt.legend()\n",
    "plt.savefig(\"roc_all\", dpi=150)\n",
    "plt.show()"
   ]
  },
  {
   "cell_type": "code",
   "execution_count": 48,
   "metadata": {},
   "outputs": [
    {
     "data": {
      "image/png": "[encoded data removed]",
      "text/plain": [
       "<Figure size 1080x720 with 2 Axes>"
      ]
     },
     "metadata": {
      "needs_background": "light"
     },
     "output_type": "display_data"
    }
   ],
   "source": [
    "import matplotlib.pyplot as plt\n",
    "from sklearn.metrics import auc\n",
    "\n",
    "fig, (ax1, ax2) = plt.subplots(1, 2, figsize=(15, 10))\n",
    "\n",
    "\n",
    "preds_prob = fusion_model.predict_proba(test_union)\n",
    "fpr, tpr, _ = roc_curve(test_labels, preds_prob[:, 1])\n",
    "ax1.plot(\n",
    "    fpr,\n",
    "    tpr,\n",
    "    color=\"darkorange\",\n",
    "    lw=2,\n",
    "    label=\"Fused Random Forest (auc = %0.3f)\" % auc(fpr, tpr),\n",
    ")\n",
    "\n",
    "preds_prob = visual_model.predict_proba(test_visual)\n",
    "fpr, tpr, _ = roc_curve(test_labels, preds_prob[:, 1])\n",
    "ax1.plot(\n",
    "    fpr,\n",
    "    tpr,\n",
    "    color=\"darkgreen\",\n",
    "    lw=2,\n",
    "    label=\"Visual Random Forest (auc = %0.3f)\" % auc(fpr, tpr),\n",
    ")\n",
    "\n",
    "preds_prob = audio_model.predict_proba(test_audio)\n",
    "fpr, tpr, _ = roc_curve(test_labels, preds_prob[:, 1])\n",
    "ax1.plot(\n",
    "    fpr,\n",
    "    tpr,\n",
    "    color=\"brown\",\n",
    "    lw=2,\n",
    "    label=\"Audio Random Forest (auc = %0.3f)\" % auc(fpr, tpr),\n",
    ")\n",
    "\n",
    "ax1.plot([0, 1], [0, 1], color=\"navy\", lw=2, linestyle=\"--\")\n",
    "\n",
    "\n",
    "preds_prob = fusion_xgb.predict_proba(test_union)\n",
    "fpr, tpr, _ = roc_curve(test_labels, preds_prob[:, 1])\n",
    "ax2.plot(\n",
    "    fpr, tpr, color=\"darkorange\", lw=2, label=\"Fused XGB (auc = %0.3f)\" % auc(fpr, tpr)\n",
    ")\n",
    "\n",
    "preds_prob = visual_xgb.predict_proba(test_visual)\n",
    "fpr, tpr, _ = roc_curve(test_labels, preds_prob[:, 1])\n",
    "ax2.plot(\n",
    "    fpr, tpr, color=\"darkgreen\", lw=2, label=\"Visual XGB (auc = %0.3f)\" % auc(fpr, tpr)\n",
    ")\n",
    "\n",
    "preds_prob = audio_xgb.predict_proba(test_audio)\n",
    "fpr, tpr, _ = roc_curve(test_labels, preds_prob[:, 1])\n",
    "ax2.plot(fpr, tpr, color=\"brown\", lw=2, label=\"Audio XGB (auc = %0.3f)\" % auc(fpr, tpr))\n",
    "\n",
    "\n",
    "ax2.plot([0, 1], [0, 1], color=\"navy\", lw=2, linestyle=\"--\")\n",
    "\n",
    "ax1.set_xlabel(\"False Positive Rate\")\n",
    "ax1.set_ylabel(\"True Positive Rate\")\n",
    "ax1.set_title(\"Random Forest\")\n",
    "\n",
    "ax2.set_xlabel(\"False Positive Rate\")\n",
    "ax2.set_ylabel(\"True Positive Rate\")\n",
    "ax2.set_title(\"XGBoost\")\n",
    "# plt.title(\"ROC curve of the Random Forest classifier applied on the test set\", fontsize=14)\n",
    "ax1.legend()\n",
    "ax2.legend()\n",
    "plt.savefig(\"roc_separate\", dpi=150)\n",
    "plt.show()"
   ]
  },
  {
   "cell_type": "markdown",
   "metadata": {},
   "source": [
    "### Post Processing"
   ]
  },
  {
   "cell_type": "code",
   "execution_count": 73,
   "metadata": {},
   "outputs": [],
   "source": [
    "from scipy.signal import medfilt\n",
    "\n",
    "\n",
    "def smoothing(predicted, med_thres=5, hard_thres=3):\n",
    "    \"\"\"\n",
    "    Filtering Predictions\n",
    "    \"\"\"\n",
    "    data = predicted.copy()\n",
    "    data = medfilt(data, med_thres)\n",
    "    count = 0\n",
    "    start = -1\n",
    "    length = len(predicted)\n",
    "    for idx, item in enumerate(data):\n",
    "        if item == 1:\n",
    "            count += 1\n",
    "            if start == -1:\n",
    "                start = idx\n",
    "            if count < hard_thres:\n",
    "                if idx == length - 1:\n",
    "                    return data\n",
    "                elif data[idx + 1] == 0:\n",
    "                    count = 0\n",
    "                    data[start : idx + 1] = 0\n",
    "        if item == 0:\n",
    "            start = -1\n",
    "            count = 0\n",
    "    return data"
   ]
  },
  {
   "cell_type": "code",
   "execution_count": 54,
   "metadata": {},
   "outputs": [],
   "source": [
    "thresholds = [3, 5]\n",
    "pres = {}\n",
    "recs = {}\n",
    "f1 = {}\n",
    "acc = {}\n",
    "for threshold in thresholds:\n",
    "    preds_thres = smoothing(preds, 3, threshold)\n",
    "    pre = precision_score(test_labels, preds_thres)\n",
    "    pres[threshold] = 100 * pre\n",
    "    rec = recall_score(test_labels, preds_thres)\n",
    "    recs[threshold] = 100 * rec\n",
    "    f1[threshold] = 100 * f1_score(test_labels, preds_thres, average=\"macro\")\n",
    "    acc[threshold] = 100 * accuracy_score(test_labels, preds_thres)"
   ]
  },
  {
   "cell_type": "code",
   "execution_count": 55,
   "metadata": {},
   "outputs": [
    {
     "name": "stdout",
     "output_type": "stream",
     "text": [
      "{3: 51.24708624708625, 5: 53.945111492281306}\n"
     ]
    }
   ],
   "source": [
    "print(pres)"
   ]
  },
  {
   "cell_type": "code",
   "execution_count": 56,
   "metadata": {},
   "outputs": [
    {
     "name": "stdout",
     "output_type": "stream",
     "text": [
      "{3: 46.946401879137305, 5: 40.29468289557976}\n"
     ]
    }
   ],
   "source": [
    "print(recs)"
   ]
  },
  {
   "cell_type": "code",
   "execution_count": 57,
   "metadata": {},
   "outputs": [
    {
     "name": "stdout",
     "output_type": "stream",
     "text": [
      "{3: 64.16704494694562, 5: 63.4567963599081}\n"
     ]
    }
   ],
   "source": [
    "print(f1)"
   ]
  },
  {
   "cell_type": "code",
   "execution_count": 58,
   "metadata": {},
   "outputs": [
    {
     "name": "stdout",
     "output_type": "stream",
     "text": [
      "{3: 70.58464307524186, 5: 71.67100568894031}\n"
     ]
    }
   ],
   "source": [
    "print(acc)"
   ]
  },
  {
   "cell_type": "code",
   "execution_count": 59,
   "metadata": {},
   "outputs": [
    {
     "data": {
      "text/plain": [
       "0.6233517803123089"
      ]
     },
     "execution_count": 59,
     "metadata": {},
     "output_type": "execute_result"
    }
   ],
   "source": [
    "f1_score(test_labels, preds, average=\"macro\")"
   ]
  },
  {
   "cell_type": "markdown",
   "metadata": {},
   "source": [
    "## Video Level Testing"
   ]
  },
  {
   "cell_type": "code",
   "execution_count": 61,
   "metadata": {},
   "outputs": [],
   "source": [
    "trainining_size = int(0.8 * len(labels_matrix))\n",
    "\n",
    "video_labels = labels_matrix[trainining_size:]\n",
    "video_test = [\n",
    "    np.hstack((visual, audio))\n",
    "    for visual, audio in zip(\n",
    "        visual_matrix[trainining_size:], audio_matrix[trainining_size:]\n",
    "    )\n",
    "]"
   ]
  },
  {
   "cell_type": "code",
   "execution_count": 75,
   "metadata": {},
   "outputs": [
    {
     "name": "stderr",
     "output_type": "stream",
     "text": [
      "/home/lorki/anaconda3/lib/python3.7/site-packages/sklearn/metrics/_classification.py:1245: UndefinedMetricWarning: Precision is ill-defined and being set to 0.0 due to no predicted samples. Use `zero_division` parameter to control this behavior.\n",
      "  _warn_prf(average, modifier, msg_start, len(result))\n",
      "/home/lorki/anaconda3/lib/python3.7/site-packages/sklearn/metrics/_classification.py:1245: UndefinedMetricWarning: Precision is ill-defined and being set to 0.0 due to no predicted samples. Use `zero_division` parameter to control this behavior.\n",
      "  _warn_prf(average, modifier, msg_start, len(result))\n",
      "/home/lorki/anaconda3/lib/python3.7/site-packages/sklearn/metrics/_classification.py:1245: UndefinedMetricWarning: Precision is ill-defined and being set to 0.0 due to no predicted samples. Use `zero_division` parameter to control this behavior.\n",
      "  _warn_prf(average, modifier, msg_start, len(result))\n"
     ]
    }
   ],
   "source": [
    "model = fusion_model\n",
    "pres = []\n",
    "recs = []\n",
    "for features, labels in zip(video_test, video_labels):\n",
    "    preds = model.predict(features)\n",
    "    preds = smoothing(preds, 3, 5)\n",
    "    pre = precision_score(labels, preds)\n",
    "    pres.append(100 * pre)\n",
    "    rec = recall_score(labels, preds)\n",
    "    recs.append(100 * rec)"
   ]
  },
  {
   "cell_type": "code",
   "execution_count": 76,
   "metadata": {},
   "outputs": [
    {
     "data": {
      "image/png": "[encoded data removed]",
      "text/plain": [
       "<Figure size 720x720 with 1 Axes>"
      ]
     },
     "metadata": {
      "needs_background": "light"
     },
     "output_type": "display_data"
    }
   ],
   "source": [
    "import scipy.stats as st\n",
    "import matplotlib.pyplot as plt\n",
    "\n",
    "x = pres\n",
    "plt.figure(figsize=(10, 10))\n",
    "plt.hist(x, density=True)\n",
    "mn, mx = plt.xlim()\n",
    "plt.xlim(mn, mx)\n",
    "kde_xs = np.linspace(mn, mx, 300)\n",
    "kde = st.gaussian_kde(x)\n",
    "plt.plot(kde_xs, kde.pdf(kde_xs))\n",
    "ax = plt.gca()\n",
    "ax.axes.yaxis.set_ticks([])\n",
    "plt.ylabel(\"Frequency\")\n",
    "plt.xlabel(\"Video level precision (macro average %)\")\n",
    "plt.savefig(\"precision_hist\", dpi=150)"
   ]
  },
  {
   "cell_type": "code",
   "execution_count": 77,
   "metadata": {},
   "outputs": [
    {
     "data": {
      "image/png": "[encoded data removed]",
      "text/plain": [
       "<Figure size 720x720 with 1 Axes>"
      ]
     },
     "metadata": {
      "needs_background": "light"
     },
     "output_type": "display_data"
    }
   ],
   "source": [
    "import scipy.stats as st\n",
    "import matplotlib.pyplot as plt\n",
    "\n",
    "x = recs\n",
    "plt.figure(figsize=(10, 10))\n",
    "plt.hist(x, density=True)\n",
    "mn, mx = plt.xlim()\n",
    "plt.xlim(mn, mx)\n",
    "kde_xs = np.linspace(mn, mx, 300)\n",
    "kde = st.gaussian_kde(x)\n",
    "plt.plot(kde_xs, kde.pdf(kde_xs))\n",
    "ax = plt.gca()\n",
    "ax.axes.yaxis.set_ticks([])\n",
    "plt.ylabel(\"Frequency\")\n",
    "plt.xlabel(\"Video level recall (macro average %)\")\n",
    "plt.savefig(\"recall_hist\", dpi=150)\n",
    "plt.show()"
   ]
  },
  {
   "cell_type": "code",
   "execution_count": 85,
   "metadata": {},
   "outputs": [],
   "source": [
    "def video_level_accuracy(model, labels_list, features_list, acc_thres=0.85):\n",
    "    cnt = 0\n",
    "    for features, labels in zip(features_list, labels_list):\n",
    "        preds = model.predict(features)\n",
    "        preds = smoothing(preds, 3, 5)\n",
    "        acc = accuracy_score(labels, preds)\n",
    "        if acc >= acc_thres:\n",
    "            cnt += 1\n",
    "    return cnt / len(labels_list)"
   ]
  },
  {
   "cell_type": "code",
   "execution_count": 88,
   "metadata": {},
   "outputs": [
    {
     "name": "stdout",
     "output_type": "stream",
     "text": [
      "--> Video level accuracy of the best classifier if: 35.29 %\n"
     ]
    }
   ],
   "source": [
    "model = fusion_model\n",
    "accuracy = video_level_accuracy(model, video_labels, video_test, acc_thres=0.6)\n",
    "print(f\"--> Video level accuracy of the best classifier if: {accuracy * 100:.2f} %\")"
   ]
  }
 ],
 "metadata": {
  "kernelspec": {
   "display_name": "Python 3",
   "language": "python",
   "name": "python3"
  },
  "language_info": {
   "codemirror_mode": {
    "name": "ipython",
    "version": 3
   },
   "file_extension": ".py",
   "mimetype": "text/x-python",
   "name": "python",
   "nbconvert_exporter": "python",
   "pygments_lexer": "ipython3",
   "version": "3.8.6"
  }
 },
 "nbformat": 4,
 "nbformat_minor": 4
}
