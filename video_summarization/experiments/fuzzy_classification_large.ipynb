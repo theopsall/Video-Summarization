{
 "cells": [
  {
   "cell_type": "markdown",
   "metadata": {},
   "source": [
    "# Imports Libraries"
   ]
  },
  {
   "cell_type": "code",
   "execution_count": 1,
   "metadata": {},
   "outputs": [],
   "source": [
    "import os\n",
    "import sklearn as sk\n",
    "import numpy as np\n",
    "from numpy.random import shuffle\n",
    "from sklearn.naive_bayes import GaussianNB\n",
    "from sklearn.linear_model import LinearRegression\n",
    "from sklearn.linear_model import LogisticRegression\n",
    "from sklearn.svm import (\n",
    "    SVC,\n",
    ")  # SVM is not going to work. After 150.000 samples is almsot impossible to run\n",
    "from sklearn.tree import DecisionTreeClassifier  # Import Decision Tree Classifier\n",
    "from sklearn.ensemble import RandomForestClassifier\n",
    "from imblearn.ensemble import BalancedRandomForestClassifier\n",
    "from sklearn.neighbors import KNeighborsClassifier\n",
    "from sklearn.metrics import (\n",
    "    accuracy_score,\n",
    "    precision_score,\n",
    "    recall_score,\n",
    "    f1_score,\n",
    "    roc_auc_score,\n",
    "    roc_curve,\n",
    "    confusion_matrix,\n",
    "    plot_confusion_matrix,\n",
    ")\n",
    "from sklearn.preprocessing import StandardScaler\n",
    "from matplotlib import pyplot\n",
    "from imblearn.ensemble import BalancedRandomForestClassifier\n",
    "from xgboost import XGBClassifier\n",
    "from collections import Counter"
   ]
  },
  {
   "cell_type": "markdown",
   "metadata": {},
   "source": [
    "# Functions"
   ]
  },
  {
   "cell_type": "code",
   "execution_count": 2,
   "metadata": {},
   "outputs": [],
   "source": [
    "def crawl_directory(directory: str) -> list:\n",
    "    \"\"\"Crawling data directory\n",
    "    Args:\n",
    "        directory (str) : The directory to crawl\n",
    "    Returns:\n",
    "        tree (list)     : A list with all the filepaths\n",
    "    \"\"\"\n",
    "    tree = []\n",
    "    subdirs = [folder[0] for folder in os.walk(directory)]\n",
    "\n",
    "    for subdir in subdirs:\n",
    "        files = next(os.walk(subdir))[2]\n",
    "        for _file in files:\n",
    "            tree.append(os.path.join(subdir, _file))\n",
    "\n",
    "    return tree"
   ]
  },
  {
   "cell_type": "code",
   "execution_count": 3,
   "metadata": {},
   "outputs": [],
   "source": [
    "def unique_files(tree: list) -> set:\n",
    "    \"\"\"\n",
    "    Getting the unique file names from a list\n",
    "    \"\"\"\n",
    "    sunolo = set()\n",
    "    for i in tree:\n",
    "        sunolo.add(i.split(os.sep)[-1].split(\".\")[0])\n",
    "    return sunolo"
   ]
  },
  {
   "cell_type": "code",
   "execution_count": 4,
   "metadata": {},
   "outputs": [],
   "source": [
    "def load_npys_to_matrics(\n",
    "    labels: list, videos: list, audio: list, threshold: int = 0.6\n",
    ") -> tuple:\n",
    "    \"\"\"\n",
    "    Loading the numpy files. Visual and audio will be averaged every 5 and 10 rows respectively.\n",
    "    DISCLAIMER i keep the minimum number of samples between the same video file from label, video and audio features matrices.\n",
    "    \"\"\"\n",
    "    STATS = {}\n",
    "    print(\"Nunpy to Matrices have start\")\n",
    "    files_sizes = []\n",
    "    labels_matrix = []\n",
    "    visual_matrix = []\n",
    "    audio_matrix = []\n",
    "    if not len(labels) == len(videos) == len(audio):\n",
    "        raise Exception(\"Labels, visual features and audio have not the same size\")\n",
    "    for idx in range(len(labels)):\n",
    "        # load labels, visual and audio in temporary variables\n",
    "        try:\n",
    "            tmp_label = np.load(labels[idx])\n",
    "\n",
    "            # 1 if the timestamp have been annotated at least from the half annotators of that specific file\n",
    "            max_annotators = int(np.amax(tmp_label))\n",
    "\n",
    "            if max_annotators < 3:\n",
    "                continue\n",
    "\n",
    "            tmp_label[tmp_label / max_annotators < threshold] = 0\n",
    "            tmp_label[tmp_label / max_annotators >= threshold] = 1\n",
    "\n",
    "            tmp_label[tmp_label >= max_annotators] = 1\n",
    "\n",
    "            tmp_visual = np.load(videos[idx])\n",
    "            tmp_audio = np.load(\n",
    "                audio[idx]\n",
    "            ).transpose()  # transposed to the same format of visual features (rows = samplles, columns = features)\n",
    "            if not max_annotators in STATS.keys():\n",
    "                STATS[max_annotators] = 0\n",
    "            STATS[max_annotators] += 1\n",
    "        except ValueError:\n",
    "            print(f\"File in index {idx} with name {videos[idx]} Not loaded\")\n",
    "            continue\n",
    "\n",
    "        # get min seconds from the same label, visual, audio np file\n",
    "        l_r = tmp_label.shape[0]\n",
    "        v_r, v_c = tmp_visual.shape\n",
    "        a_r, a_c = tmp_audio.shape\n",
    "\n",
    "        v_r = v_r // 5\n",
    "        min_seconds = min(l_r, v_r, a_r)\n",
    "\n",
    "        files_sizes.append(min_seconds)\n",
    "\n",
    "        labels_matrix.append(tmp_label[:min_seconds])\n",
    "        # VISUAL\n",
    "        # keep number of samples divisible with 5\n",
    "        tmp_visual = tmp_visual[: min_seconds * 5]\n",
    "        # averaging visual every 5 (Because we have analyze video with .2 step)\n",
    "        visual_matrix.append(\n",
    "            tmp_visual.transpose().reshape(-1, 5).mean(1).reshape(v_c, -1).transpose()\n",
    "        )\n",
    "\n",
    "        tmp_audio = tmp_audio[:min_seconds]\n",
    "        audio_matrix.append(tmp_audio)\n",
    "\n",
    "        del tmp_label\n",
    "        del tmp_visual\n",
    "        del tmp_audio\n",
    "\n",
    "    # print(STATS)\n",
    "    return files_sizes, labels_matrix, visual_matrix, audio_matrix"
   ]
  },
  {
   "cell_type": "code",
   "execution_count": 5,
   "metadata": {},
   "outputs": [],
   "source": [
    "def split(labels: list, videos: list, audio: list, split_size: float) -> tuple:\n",
    "    if not len(labels) == len(videos) == len(audio):\n",
    "        raise Exception(\"Labels, visual features and audio have not the same size\")\n",
    "    if split_size >= 1.0 or split_size <= 0.0:\n",
    "        raise Exception(\"Split size is out of bound\")\n",
    "    trainining_size = int(split_size * len(labels))\n",
    "    # first training, second test\n",
    "    return (\n",
    "        np.hstack([label for label in labels[:trainining_size]]),\n",
    "        np.vstack([video for video in videos[:trainining_size]]),\n",
    "        np.vstack([audio for audio in audio[:trainining_size]]),\n",
    "        np.hstack([label for label in labels[trainining_size:]]),\n",
    "        np.vstack([video for video in videos[trainining_size:]]),\n",
    "        np.vstack([audio for audio in audio[trainining_size:]]),\n",
    "    )"
   ]
  },
  {
   "cell_type": "code",
   "execution_count": 6,
   "metadata": {},
   "outputs": [],
   "source": [
    "def shuffle_lists(labels: list, audio: list, visual: list) -> tuple:\n",
    "    np.random.seed(47)\n",
    "    zipped_list = list(zip(labels, audio, visual))\n",
    "    shuffle(\n",
    "        zipped_list,\n",
    "    )\n",
    "    return zip(*zipped_list)"
   ]
  },
  {
   "cell_type": "code",
   "execution_count": 7,
   "metadata": {},
   "outputs": [],
   "source": [
    "def grid_search(model, params, param_name, x_train, y_train, x_test, y_test):\n",
    "    best_score = 0\n",
    "    for param in params:\n",
    "        a = {param_name: param}\n",
    "        model.set_params(**a)\n",
    "        model.fit(x_train, y_train)\n",
    "        preds_prob = model.predict_proba(x_test)\n",
    "        score = roc_auc_score(y_test, preds_prob[:, 1])\n",
    "        print(\"{} = {}: {}\".format(param_name, param, score))\n",
    "        # save if best\n",
    "        if score > best_score:\n",
    "            best_score = score\n",
    "            best_param = param\n",
    "    print(\"Best score: {}\".format(best_score))\n",
    "    print(\"Best param: {}\".format(best_param))\n",
    "    return best_param"
   ]
  },
  {
   "cell_type": "code",
   "execution_count": 8,
   "metadata": {},
   "outputs": [],
   "source": [
    "def read_fuzzy_files(file_path, feature_size=18):\n",
    "    fuzzy_features = []\n",
    "    with open(file_path, \"r\") as _f:\n",
    "        total = 0\n",
    "        for line in _f.readlines():\n",
    "            line = line.rstrip()\n",
    "            line = line.replace(\"\\x00\", \"\")\n",
    "            line = line.replace(\"\\t\", \",\")\n",
    "            line = line.replace(\",,\", \",\")\n",
    "\n",
    "            if len(line.split(\",\")) == feature_size:\n",
    "                fuzzy_features.append([float(x) for x in line.split(\",\")])\n",
    "            else:\n",
    "                print(f\"error on feature size: {len(line.split(','))}\")\n",
    "                #             elif len(line.split(',')) == 61 and line.split(',')[0]==\"\":\n",
    "                #                 fuzzy_features.append([float(x) for x  in line.split(',')[1:]])\n",
    "                #             elif len(line.split(',')) == 61 and line.split(',')[-1]==\"\":\n",
    "                #                 fuzzy_features.append([float(x) for x  in line.split(',')[:-1]])\n",
    "                #             elif len(line.split(',')) == 62:\n",
    "                #                 fuzzy_features.append([ float(x) for x in line.split(',')[1:-1]])\n",
    "            total += 1\n",
    "    print(f\"Total: {total}\")\n",
    "    if total != len(fuzzy_features):\n",
    "        print(total)\n",
    "        print(len(fuzzy_features))\n",
    "        print(\"Error\")\n",
    "    return np.array(fuzzy_features)"
   ]
  },
  {
   "cell_type": "code",
   "execution_count": 9,
   "metadata": {},
   "outputs": [],
   "source": [
    "def restore_indexes(\n",
    "    interesting, interesting_indexes, non_interesting, non_interesting_indexes\n",
    "):\n",
    "    interesting_fuzzy_features = read_fuzzy_files(interesting, 180)\n",
    "    interesting_idx = read_indexes(\n",
    "        interesting_indexes,\n",
    "    )\n",
    "\n",
    "    non_interesting_fuzzy_features = read_fuzzy_files(non_interesting, 180)\n",
    "    non_interesting_idx = read_indexes(non_interesting_indexes)\n",
    "    interesting = pd.DataFrame(data=interesting_fuzzy_features, index=interesting_idx)\n",
    "    interesting[\"label\"] = 1\n",
    "    non_interesting = pd.DataFrame(\n",
    "        data=non_interesting_fuzzy_features, index=non_interesting_idx\n",
    "    )\n",
    "    non_interesting[\"label\"] = 0\n",
    "\n",
    "    merge = pd.concat([interesting, non_interesting]).sort_index()\n",
    "    return merge.iloc[:, 0:-1].to_numpy(), merge.iloc[:, -1].to_numpy()"
   ]
  },
  {
   "cell_type": "code",
   "execution_count": 10,
   "metadata": {},
   "outputs": [],
   "source": [
    "def read_indexes(file):\n",
    "    with open(file, \"r\") as f:\n",
    "        return [int(line.strip()) for line in f.readlines()]"
   ]
  },
  {
   "cell_type": "code",
   "execution_count": 11,
   "metadata": {},
   "outputs": [],
   "source": [
    "import pandas as pd"
   ]
  },
  {
   "cell_type": "code",
   "execution_count": 12,
   "metadata": {},
   "outputs": [],
   "source": [
    "import random\n",
    "\n",
    "random.seed(42)"
   ]
  },
  {
   "cell_type": "markdown",
   "metadata": {},
   "source": [
    "# Main Logic "
   ]
  },
  {
   "cell_type": "code",
   "execution_count": 13,
   "metadata": {},
   "outputs": [],
   "source": [
    "pd.set_option(\"display.precision\", 10)"
   ]
  },
  {
   "cell_type": "code",
   "execution_count": 17,
   "metadata": {},
   "outputs": [],
   "source": [
    "test_intersting = (\n",
    "    \"new_experiments/experiment_333030/test_intresting_features_333030.txt\"\n",
    ")\n",
    "test_intersting_indexes = (\n",
    "    \"new_experiments/experiment_333030/test_intresting_indexes_333030.txt\"\n",
    ")\n",
    "test_non_intersting = (\n",
    "    \"new_experiments/experiment_333030/test_non_intresting_features_333030.txt\"\n",
    ")\n",
    "test_non_intersting_indexes = (\n",
    "    \"new_experiments/experiment_333030/test_non_intresting_indexes_333030.txt\"\n",
    ")"
   ]
  },
  {
   "cell_type": "code",
   "execution_count": 18,
   "metadata": {},
   "outputs": [],
   "source": [
    "train_intersting = (\n",
    "    \"new_experiments/experiment_333030/train_intresting_features_333030.txt\"\n",
    ")\n",
    "train_intersting_indexes = (\n",
    "    \"new_experiments/experiment_333030/train_intresting_indexes_333030.txt\"\n",
    ")\n",
    "train_non_intersting = (\n",
    "    \"new_experiments/experiment_333030/train_non_intresting_features_333030.txt\"\n",
    ")\n",
    "train_non_intersting_indexes = (\n",
    "    \"new_experiments/experiment_333030/train_non_intresting_indexes_333030.txt\"\n",
    ")"
   ]
  },
  {
   "cell_type": "code",
   "execution_count": 19,
   "metadata": {},
   "outputs": [
    {
     "name": "stdout",
     "output_type": "stream",
     "text": [
      "Total: 9366\n",
      "Total: 21747\n"
     ]
    }
   ],
   "source": [
    "testing_data, testing_labels = restore_indexes(\n",
    "    test_intersting,\n",
    "    test_intersting_indexes,\n",
    "    test_non_intersting,\n",
    "    test_non_intersting_indexes,\n",
    ")"
   ]
  },
  {
   "cell_type": "code",
   "execution_count": 20,
   "metadata": {},
   "outputs": [
    {
     "name": "stdout",
     "output_type": "stream",
     "text": [
      "Total: 32497\n",
      "Total: 95475\n"
     ]
    }
   ],
   "source": [
    "training_data, training_labels = restore_indexes(\n",
    "    train_intersting,\n",
    "    train_intersting_indexes,\n",
    "    train_non_intersting,\n",
    "    train_non_intersting_indexes,\n",
    ")"
   ]
  },
  {
   "cell_type": "code",
   "execution_count": 21,
   "metadata": {},
   "outputs": [],
   "source": [
    "plots = {}"
   ]
  },
  {
   "cell_type": "markdown",
   "metadata": {},
   "source": [
    "# Random  Experiment"
   ]
  },
  {
   "cell_type": "code",
   "execution_count": 22,
   "metadata": {},
   "outputs": [],
   "source": [
    "random_pred_probs = np.random.rand(testing_data.shape[0], 1)"
   ]
  },
  {
   "cell_type": "code",
   "execution_count": 23,
   "metadata": {},
   "outputs": [],
   "source": [
    "random_pred_probs = np.concatenate((random_pred_probs, 1 - random_pred_probs), axis=1)"
   ]
  },
  {
   "cell_type": "code",
   "execution_count": 24,
   "metadata": {},
   "outputs": [
    {
     "data": {
      "text/plain": [
       "array([[0.35996232, 0.64003768],\n",
       "       [0.76321401, 0.23678599],\n",
       "       [0.53564333, 0.46435667],\n",
       "       ...,\n",
       "       [0.81040869, 0.18959131],\n",
       "       [0.51672693, 0.48327307],\n",
       "       [0.70616916, 0.29383084]])"
      ]
     },
     "execution_count": 24,
     "metadata": {},
     "output_type": "execute_result"
    }
   ],
   "source": [
    "random_pred_probs"
   ]
  },
  {
   "cell_type": "code",
   "execution_count": 25,
   "metadata": {},
   "outputs": [],
   "source": [
    "random_preds = random_pred_probs.copy()\n",
    "random_preds[random_preds > 0.5] = 1\n",
    "random_preds[random_preds <= 0.5] = 0"
   ]
  },
  {
   "cell_type": "code",
   "execution_count": 26,
   "metadata": {},
   "outputs": [
    {
     "data": {
      "text/plain": [
       "array([0, 0, 0, ..., 0, 0, 0])"
      ]
     },
     "execution_count": 26,
     "metadata": {},
     "output_type": "execute_result"
    }
   ],
   "source": [
    "testing_labels"
   ]
  },
  {
   "cell_type": "code",
   "execution_count": 27,
   "metadata": {},
   "outputs": [
    {
     "data": {
      "text/plain": [
       "array([1., 0., 0., ..., 0., 0., 0.])"
      ]
     },
     "execution_count": 27,
     "metadata": {},
     "output_type": "execute_result"
    }
   ],
   "source": [
    "random_preds[:, 1]"
   ]
  },
  {
   "cell_type": "code",
   "execution_count": 28,
   "metadata": {},
   "outputs": [
    {
     "name": "stdout",
     "output_type": "stream",
     "text": [
      "Random F1 is: 48.25 %\n"
     ]
    }
   ],
   "source": [
    "print(\n",
    "    f\"Random F1 is: {f1_score(testing_labels, random_preds[:, 1], average='macro') * 100:.2f} %\"\n",
    ")"
   ]
  },
  {
   "cell_type": "code",
   "execution_count": 29,
   "metadata": {},
   "outputs": [
    {
     "name": "stdout",
     "output_type": "stream",
     "text": [
      "ROC AUC score: 0.5041526611611739\n"
     ]
    }
   ],
   "source": [
    "print(\n",
    "    \"ROC AUC score: {}\".format(roc_auc_score(testing_labels, random_pred_probs[:, 1]))\n",
    ")"
   ]
  },
  {
   "cell_type": "code",
   "execution_count": 30,
   "metadata": {},
   "outputs": [
    {
     "name": "stdout",
     "output_type": "stream",
     "text": [
      " Confusion Matrix for Random :\n",
      " [[10891 10856]\n",
      " [ 4617  4749]]\n"
     ]
    }
   ],
   "source": [
    "print(\n",
    "    f\" Confusion Matrix for Random :\\n {confusion_matrix(testing_labels, random_preds[:, 1])}\"\n",
    ")"
   ]
  },
  {
   "cell_type": "code",
   "execution_count": 31,
   "metadata": {},
   "outputs": [],
   "source": [
    "plots[\"Random\"] = roc_curve(testing_labels, random_pred_probs[:, 1])"
   ]
  },
  {
   "cell_type": "code",
   "execution_count": 32,
   "metadata": {},
   "outputs": [
    {
     "data": {
      "image/png": "[encoded data removed]",
      "text/plain": [
       "<Figure size 432x288 with 1 Axes>"
      ]
     },
     "metadata": {
      "needs_background": "light"
     },
     "output_type": "display_data"
    }
   ],
   "source": [
    "fpr, tpr, _ = roc_curve(testing_labels, random_pred_probs[:, 1])\n",
    "pyplot.plot(fpr, tpr, marker=\".\", label=\"Random\")\n",
    "pyplot.xlabel(\"False Positive Rate\")\n",
    "pyplot.ylabel(\"True Positive Rate\")\n",
    "# show the legend\n",
    "pyplot.legend()\n",
    "# show the plot\n",
    "pyplot.show()"
   ]
  },
  {
   "cell_type": "code",
   "execution_count": null,
   "metadata": {},
   "outputs": [],
   "source": []
  },
  {
   "cell_type": "markdown",
   "metadata": {},
   "source": [
    "## Logistic Regression"
   ]
  },
  {
   "cell_type": "code",
   "execution_count": 33,
   "metadata": {},
   "outputs": [
    {
     "name": "stdout",
     "output_type": "stream",
     "text": [
      "C = 0.1: 0.6217554622121945\n",
      "C = 1: 0.6370778365035188\n",
      "C = 100: 0.6607542020247777\n",
      "C = 1000: 0.6590157111363995\n",
      "C = 10: 0.6562796475662144\n",
      "C = 0.01: 0.614848287187815\n",
      "C = 0.001: 0.6133610158426941\n",
      "Best score: 0.6607542020247777\n",
      "Best param: 100\n",
      "--> F1: Logistic Regression on fuzzy features only  is: 51.84 %\n",
      "--> ROC AUC: Logistic Regression on fuzzy features only  is: 66.08 %\n"
     ]
    }
   ],
   "source": [
    "model = LogisticRegression(solver=\"lbfgs\", max_iter=100000, random_state=42)\n",
    "C_param_range = {0.001, 0.01, 0.1, 1, 10, 100, 1000}\n",
    "c = grid_search(\n",
    "    model,\n",
    "    C_param_range,\n",
    "    \"C\",\n",
    "    training_data,\n",
    "    training_labels,\n",
    "    testing_data,\n",
    "    testing_labels,\n",
    ")\n",
    "fuzzy_lR = LogisticRegression(C=c, solver=\"lbfgs\", max_iter=100000, random_state=42)\n",
    "fuzzy_lR.fit(training_data, training_labels)\n",
    "preds = fuzzy_lR.predict(testing_data)\n",
    "print(\n",
    "    f\"--> F1: Logistic Regression on fuzzy features only  is: {f1_score(testing_labels, preds, average='macro') * 100:.2f} %\"\n",
    ")\n",
    "preds_prob = fuzzy_lR.predict_proba(testing_data)\n",
    "print(\n",
    "    f\"--> ROC AUC: Logistic Regression on fuzzy features only  is: {roc_auc_score(testing_labels, preds_prob[:, 1]) * 100:.2f} %\"\n",
    ")"
   ]
  },
  {
   "cell_type": "markdown",
   "metadata": {},
   "source": [
    "### KNN"
   ]
  },
  {
   "cell_type": "code",
   "execution_count": 34,
   "metadata": {},
   "outputs": [
    {
     "name": "stdout",
     "output_type": "stream",
     "text": [
      "--> F1: KNN on fuzzy features only  is: 54.81 %\n",
      "--> ROC AUC: KNN on fuzzy features only  is: 60.20 %\n"
     ]
    }
   ],
   "source": [
    "fuzzy_knn = KNeighborsClassifier(n_neighbors=5)\n",
    "fuzzy_knn.fit(training_data, training_labels)\n",
    "preds = fuzzy_knn.predict(testing_data)\n",
    "print(\n",
    "    f\"--> F1: KNN on fuzzy features only  is: {f1_score(testing_labels, preds, average='macro') * 100:.2f} %\"\n",
    ")\n",
    "preds_prob = fuzzy_knn.predict_proba(testing_data)\n",
    "print(\n",
    "    f\"--> ROC AUC: KNN on fuzzy features only  is: {roc_auc_score(testing_labels, preds_prob[:, 1]) * 100:.2f} %\"\n",
    ")"
   ]
  },
  {
   "cell_type": "markdown",
   "metadata": {},
   "source": [
    "## Random Forest"
   ]
  },
  {
   "cell_type": "code",
   "execution_count": 35,
   "metadata": {},
   "outputs": [
    {
     "name": "stdout",
     "output_type": "stream",
     "text": [
      "--> F1: Random Forest on Audio features only  is: 57.35 %\n",
      "--> ROC AUC: Random Forest on Audio features only  is: 66.99 %\n"
     ]
    }
   ],
   "source": [
    "fuzzy_rf = BalancedRandomForestClassifier(\n",
    "    criterion=\"gini\",\n",
    "    n_estimators=400,\n",
    "    class_weight=\"balanced_subsample\",\n",
    "    random_state=42,\n",
    ")\n",
    "fuzzy_rf.fit(training_data, training_labels)\n",
    "preds = fuzzy_rf.predict(testing_data)\n",
    "print(\n",
    "    f\"--> F1: Random Forest on Audio features only  is: {f1_score(testing_labels, preds, average='macro') * 100:.2f} %\"\n",
    ")\n",
    "preds_prob = fuzzy_rf.predict_proba(testing_data)\n",
    "print(\n",
    "    f\"--> ROC AUC: Random Forest on Audio features only  is: {roc_auc_score(testing_labels, preds_prob[:, 1]) * 100:.2f} %\"\n",
    ")"
   ]
  },
  {
   "cell_type": "code",
   "execution_count": 36,
   "metadata": {},
   "outputs": [],
   "source": [
    "import pickle\n",
    "\n",
    "pickle.dump(fuzzy_rf, open(\"fuzzy_rf.pt\", \"wb\"))"
   ]
  },
  {
   "cell_type": "markdown",
   "metadata": {},
   "source": [
    "### Bayes"
   ]
  },
  {
   "cell_type": "code",
   "execution_count": 37,
   "metadata": {},
   "outputs": [
    {
     "name": "stdout",
     "output_type": "stream",
     "text": [
      "--> F1: Bayes on Fuzzy features only  is: 55.43 %\n",
      "--> ROC AUC: Bayes on Fuzzy features only  is: 63.37 %\n"
     ]
    }
   ],
   "source": [
    "from sklearn.naive_bayes import GaussianNB\n",
    "\n",
    "fuzzy_nb = GaussianNB()\n",
    "fuzzy_nb.fit(training_data, training_labels)\n",
    "preds = fuzzy_nb.predict(testing_data)\n",
    "print(\n",
    "    f\"--> F1: Bayes on Fuzzy features only  is: {f1_score(testing_labels, preds, average='macro') * 100:.2f} %\"\n",
    ")\n",
    "preds_prob = fuzzy_nb.predict_proba(testing_data)\n",
    "print(\n",
    "    f\"--> ROC AUC: Bayes on Fuzzy features only  is: {roc_auc_score(testing_labels, preds_prob[:, 1]) * 100:.2f} %\"\n",
    ")"
   ]
  },
  {
   "cell_type": "markdown",
   "metadata": {},
   "source": [
    "### Decision Tree"
   ]
  },
  {
   "cell_type": "code",
   "execution_count": 38,
   "metadata": {},
   "outputs": [
    {
     "name": "stdout",
     "output_type": "stream",
     "text": [
      "--> F1: DT on Audio features only  is: 51.57 %\n",
      "--> ROC AUC: DT on Audio features only  is: 61.83 %\n"
     ]
    }
   ],
   "source": [
    "fuzzy_dt = DecisionTreeClassifier(criterion=\"entropy\", max_depth=6, random_state=42)\n",
    "fuzzy_dt.fit(training_data, training_labels)\n",
    "preds = fuzzy_dt.predict(testing_data)\n",
    "print(\n",
    "    f\"--> F1: DT on Audio features only  is: {f1_score(testing_labels, preds, average='macro') * 100:.2f} %\"\n",
    ")\n",
    "preds_prob = fuzzy_dt.predict_proba(testing_data)\n",
    "print(\n",
    "    f\"--> ROC AUC: DT on Audio features only  is: {roc_auc_score(testing_labels, preds_prob[:, 1]) * 100:.2f} %\"\n",
    ")"
   ]
  },
  {
   "cell_type": "markdown",
   "metadata": {},
   "source": [
    "### XGBOOST"
   ]
  },
  {
   "cell_type": "code",
   "execution_count": 39,
   "metadata": {},
   "outputs": [],
   "source": [
    "labels_dist = Counter(training_labels)\n",
    "imbalance_rate = labels_dist[0] / labels_dist[1]"
   ]
  },
  {
   "cell_type": "code",
   "execution_count": 40,
   "metadata": {},
   "outputs": [
    {
     "name": "stderr",
     "output_type": "stream",
     "text": [
      "/home/theo/.local/lib/python3.8/site-packages/xgboost/sklearn.py:1224: UserWarning: The use of label encoder in XGBClassifier is deprecated and will be removed in a future release. To remove this warning, do the following: 1) Pass option use_label_encoder=False when constructing XGBClassifier object; and 2) Encode your labels (y) as integers starting with 0, i.e. 0, 1, 2, ..., [num_class - 1].\n",
      "  warnings.warn(label_encoder_deprecation_msg, UserWarning)\n"
     ]
    },
    {
     "name": "stdout",
     "output_type": "stream",
     "text": [
      "--> F1: XGB on Audio features only  is: 58.34 %\n",
      "--> ROC AUC: XGB on Audio features only  is: 64.55 %\n"
     ]
    }
   ],
   "source": [
    "fuzzy_xgb = XGBClassifier(\n",
    "    n_estimators=400, scale_pos_weight=imbalance_rate, verbosity=0, seed=42\n",
    ")\n",
    "fuzzy_xgb.fit(training_data, training_labels)\n",
    "preds = fuzzy_xgb.predict(testing_data)\n",
    "print(\n",
    "    f\"--> F1: XGB on Audio features only  is: {f1_score(testing_labels, preds, average='macro') * 100:.2f} %\"\n",
    ")\n",
    "preds_prob = fuzzy_xgb.predict_proba(testing_data)\n",
    "print(\n",
    "    f\"--> ROC AUC: XGB on Audio features only  is: {roc_auc_score(testing_labels, preds_prob[:, 1]) * 100:.2f} %\"\n",
    ")"
   ]
  },
  {
   "cell_type": "code",
   "execution_count": 41,
   "metadata": {},
   "outputs": [],
   "source": [
    "pickle.dump(fuzzy_xgb, open(\"fuzzy_xgb.pt\", \"wb\"))"
   ]
  },
  {
   "cell_type": "markdown",
   "metadata": {},
   "source": [
    "## Loading CLassifiers"
   ]
  },
  {
   "cell_type": "code",
   "execution_count": 42,
   "metadata": {},
   "outputs": [],
   "source": [
    "import pickle\n",
    "\n",
    "fuzzy_rf = pickle.load(open(\"fuzzy_rf.pt\", \"rb\"))\n",
    "\n",
    "fuzzy_xgb = pickle.load(open(\"fuzzy_xgb.pt\", \"rb\"))"
   ]
  },
  {
   "cell_type": "markdown",
   "metadata": {},
   "source": [
    "### Basic Classification Results"
   ]
  },
  {
   "cell_type": "code",
   "execution_count": 43,
   "metadata": {},
   "outputs": [
    {
     "name": "stdout",
     "output_type": "stream",
     "text": [
      "[[11968  9779]\n",
      " [ 3053  6313]]\n"
     ]
    },
    {
     "data": {
      "image/png": "[encoded data removed]",
      "text/plain": [
       "<Figure size 720x720 with 2 Axes>"
      ]
     },
     "metadata": {
      "needs_background": "light"
     },
     "output_type": "display_data"
    }
   ],
   "source": [
    "import matplotlib.pyplot as plt\n",
    "from sklearn.metrics import plot_confusion_matrix\n",
    "\n",
    "classifier = fuzzy_rf\n",
    "preds = fuzzy_rf.predict(testing_data)\n",
    "\n",
    "np.set_printoptions(precision=2)\n",
    "fig, ax = plt.subplots(figsize=(10, 10))\n",
    "disp = plot_confusion_matrix(\n",
    "    classifier, testing_data, testing_labels, cmap=plt.cm.Blues, ax=ax\n",
    ")\n",
    "# disp.ax_.set_title(\"Normalized confusion matrix\", fontsize=14)\n",
    "print(disp.confusion_matrix)\n",
    "\n",
    "plt.savefig(\"confusion_matrix\", dpi=150)\n",
    "plt.show()"
   ]
  },
  {
   "cell_type": "code",
   "execution_count": 44,
   "metadata": {
    "scrolled": true
   },
   "outputs": [
    {
     "name": "stdout",
     "output_type": "stream",
     "text": [
      "              precision    recall  f1-score   support\n",
      "\n",
      "           0       0.80      0.55      0.65     21747\n",
      "           1       0.39      0.67      0.50      9366\n",
      "\n",
      "    accuracy                           0.59     31113\n",
      "   macro avg       0.59      0.61      0.57     31113\n",
      "weighted avg       0.68      0.59      0.60     31113\n",
      "\n"
     ]
    }
   ],
   "source": [
    "from sklearn.metrics import classification_report\n",
    "\n",
    "print(classification_report(testing_labels, preds))"
   ]
  },
  {
   "cell_type": "code",
   "execution_count": 45,
   "metadata": {},
   "outputs": [
    {
     "data": {
      "image/png": "[encoded data removed]",
      "text/plain": [
       "<Figure size 1080x720 with 1 Axes>"
      ]
     },
     "metadata": {
      "needs_background": "light"
     },
     "output_type": "display_data"
    }
   ],
   "source": [
    "import matplotlib.pyplot as plt\n",
    "from sklearn.metrics import auc\n",
    "\n",
    "plt.figure(figsize=(15, 10))\n",
    "\n",
    "\n",
    "preds_prob = fuzzy_rf.predict_proba(testing_data)\n",
    "fpr, tpr, _ = roc_curve(testing_labels, preds_prob[:, 1])\n",
    "plt.plot(\n",
    "    fpr,\n",
    "    tpr,\n",
    "    color=\"gold\",\n",
    "    lw=2,\n",
    "    label=\"Fuzzy Random Forest (auc = %0.3f)\" % auc(fpr, tpr),\n",
    ")\n",
    "\n",
    "preds_prob = fuzzy_xgb.predict_proba(testing_data)\n",
    "fpr, tpr, _ = roc_curve(testing_labels, preds_prob[:, 1])\n",
    "plt.plot(fpr, tpr, color=\"red\", lw=2, label=\"Fuzzy XGB (auc = %0.3f)\" % auc(fpr, tpr))\n",
    "\n",
    "\n",
    "plt.plot([0, 1], [0, 1], color=\"black\", lw=2, linestyle=\"--\")\n",
    "plt.xlabel(\"False Positive Rate\")\n",
    "plt.ylabel(\"True Positive Rate\")\n",
    "# plt.title(\"ROC curve of the Random Forest classifier applied on the test set\", fontsize=14)\n",
    "plt.legend()\n",
    "plt.savefig(\"roc_all\", dpi=150)\n",
    "plt.show()"
   ]
  },
  {
   "cell_type": "code",
   "execution_count": 46,
   "metadata": {},
   "outputs": [
    {
     "ename": "NameError",
     "evalue": "name 'fuzzy_model' is not defined",
     "output_type": "error",
     "traceback": [
      "\u001b[0;31m---------------------------------------------------------------------------\u001b[0m",
      "\u001b[0;31mNameError\u001b[0m                                 Traceback (most recent call last)",
      "\u001b[0;32m<ipython-input-46-55c4bfefdfd8>\u001b[0m in \u001b[0;36m<module>\u001b[0;34m\u001b[0m\n\u001b[1;32m      5\u001b[0m \u001b[0;34m\u001b[0m\u001b[0m\n\u001b[1;32m      6\u001b[0m \u001b[0;34m\u001b[0m\u001b[0m\n\u001b[0;32m----> 7\u001b[0;31m \u001b[0mpreds_prob\u001b[0m \u001b[0;34m=\u001b[0m \u001b[0mfuzzy_model\u001b[0m\u001b[0;34m.\u001b[0m\u001b[0mpredict_proba\u001b[0m\u001b[0;34m(\u001b[0m\u001b[0mtesting_data\u001b[0m\u001b[0;34m)\u001b[0m\u001b[0;34m\u001b[0m\u001b[0;34m\u001b[0m\u001b[0m\n\u001b[0m\u001b[1;32m      8\u001b[0m \u001b[0mfpr\u001b[0m\u001b[0;34m,\u001b[0m \u001b[0mtpr\u001b[0m\u001b[0;34m,\u001b[0m \u001b[0m_\u001b[0m \u001b[0;34m=\u001b[0m \u001b[0mroc_curve\u001b[0m\u001b[0;34m(\u001b[0m\u001b[0mtesting_labels\u001b[0m\u001b[0;34m,\u001b[0m \u001b[0mpreds_prob\u001b[0m\u001b[0;34m[\u001b[0m\u001b[0;34m:\u001b[0m\u001b[0;34m,\u001b[0m\u001b[0;36m1\u001b[0m\u001b[0;34m]\u001b[0m\u001b[0;34m)\u001b[0m\u001b[0;34m\u001b[0m\u001b[0;34m\u001b[0m\u001b[0m\n\u001b[1;32m      9\u001b[0m \u001b[0max1\u001b[0m\u001b[0;34m.\u001b[0m\u001b[0mplot\u001b[0m\u001b[0;34m(\u001b[0m\u001b[0mfpr\u001b[0m\u001b[0;34m,\u001b[0m \u001b[0mtpr\u001b[0m\u001b[0;34m,\u001b[0m \u001b[0mcolor\u001b[0m\u001b[0;34m=\u001b[0m\u001b[0;34m'darkorange'\u001b[0m\u001b[0;34m,\u001b[0m \u001b[0mlw\u001b[0m\u001b[0;34m=\u001b[0m\u001b[0;36m2\u001b[0m\u001b[0;34m,\u001b[0m \u001b[0mlabel\u001b[0m\u001b[0;34m=\u001b[0m\u001b[0;34m'Fused Random Forest (auc = %0.3f)'\u001b[0m \u001b[0;34m%\u001b[0m \u001b[0mauc\u001b[0m\u001b[0;34m(\u001b[0m\u001b[0mfpr\u001b[0m\u001b[0;34m,\u001b[0m \u001b[0mtpr\u001b[0m\u001b[0;34m)\u001b[0m\u001b[0;34m)\u001b[0m\u001b[0;34m\u001b[0m\u001b[0;34m\u001b[0m\u001b[0m\n",
      "\u001b[0;31mNameError\u001b[0m: name 'fuzzy_model' is not defined"
     ]
    },
    {
     "data": {
      "image/png": "[encoded data removed]",
      "text/plain": [
       "<Figure size 1080x720 with 2 Axes>"
      ]
     },
     "metadata": {
      "needs_background": "light"
     },
     "output_type": "display_data"
    }
   ],
   "source": [
    "import matplotlib.pyplot as plt\n",
    "from sklearn.metrics import auc\n",
    "\n",
    "fig, (ax1, ax2) = plt.subplots(1, 2, figsize=(15, 10))\n",
    "\n",
    "\n",
    "preds_prob = fuzzy_model.predict_proba(testing_data)\n",
    "fpr, tpr, _ = roc_curve(testing_labels, preds_prob[:, 1])\n",
    "ax1.plot(\n",
    "    fpr,\n",
    "    tpr,\n",
    "    color=\"darkorange\",\n",
    "    lw=2,\n",
    "    label=\"Fused Random Forest (auc = %0.3f)\" % auc(fpr, tpr),\n",
    ")\n",
    "\n",
    "preds_prob = visual_model.predict_proba(test_visual)\n",
    "fpr, tpr, _ = roc_curve(testing_labels, preds_prob[:, 1])\n",
    "ax1.plot(\n",
    "    fpr,\n",
    "    tpr,\n",
    "    color=\"darkgreen\",\n",
    "    lw=2,\n",
    "    label=\"Visual Random Forest (auc = %0.3f)\" % auc(fpr, tpr),\n",
    ")\n",
    "\n",
    "preds_prob = fuzzy_rf.predict_proba(testing_data)\n",
    "fpr, tpr, _ = roc_curve(testing_labels, preds_prob[:, 1])\n",
    "ax1.plot(\n",
    "    fpr,\n",
    "    tpr,\n",
    "    color=\"brown\",\n",
    "    lw=2,\n",
    "    label=\"Audio Random Forest (auc = %0.3f)\" % auc(fpr, tpr),\n",
    ")\n",
    "\n",
    "ax1.plot([0, 1], [0, 1], color=\"navy\", lw=2, linestyle=\"--\")\n",
    "\n",
    "\n",
    "preds_prob = fusion_xgb.predict_proba(testing_data)\n",
    "fpr, tpr, _ = roc_curve(testing_labels, preds_prob[:, 1])\n",
    "ax2.plot(\n",
    "    fpr, tpr, color=\"darkorange\", lw=2, label=\"Fused XGB (auc = %0.3f)\" % auc(fpr, tpr)\n",
    ")\n",
    "\n",
    "preds_prob = visual_xgb.predict_proba(test_visual)\n",
    "fpr, tpr, _ = roc_curve(testing_labels, preds_prob[:, 1])\n",
    "ax2.plot(\n",
    "    fpr, tpr, color=\"darkgreen\", lw=2, label=\"Visual XGB (auc = %0.3f)\" % auc(fpr, tpr)\n",
    ")\n",
    "\n",
    "preds_prob = fuzzy_xgb.predict_proba(testing_data)\n",
    "fpr, tpr, _ = roc_curve(testing_labels, preds_prob[:, 1])\n",
    "ax2.plot(fpr, tpr, color=\"brown\", lw=2, label=\"Audio XGB (auc = %0.3f)\" % auc(fpr, tpr))\n",
    "\n",
    "\n",
    "ax2.plot([0, 1], [0, 1], color=\"navy\", lw=2, linestyle=\"--\")\n",
    "\n",
    "ax1.set_xlabel(\"False Positive Rate\")\n",
    "ax1.set_ylabel(\"True Positive Rate\")\n",
    "ax1.set_title(\"Random Forest\")\n",
    "\n",
    "ax2.set_xlabel(\"False Positive Rate\")\n",
    "ax2.set_ylabel(\"True Positive Rate\")\n",
    "ax2.set_title(\"XGBoost\")\n",
    "# plt.title(\"ROC curve of the Random Forest classifier applied on the test set\", fontsize=14)\n",
    "ax1.legend()\n",
    "ax2.legend()\n",
    "plt.savefig(\"roc_separate\", dpi=150)\n",
    "plt.show()"
   ]
  },
  {
   "cell_type": "markdown",
   "metadata": {},
   "source": [
    "### Post Processing"
   ]
  },
  {
   "cell_type": "code",
   "execution_count": null,
   "metadata": {},
   "outputs": [],
   "source": [
    "from scipy.signal import medfilt\n",
    "\n",
    "\n",
    "def smoothing(predicted, med_thres=5, hard_thres=3):\n",
    "    \"\"\"\n",
    "    Filtering Predictions\n",
    "    \"\"\"\n",
    "    data = predicted.copy()\n",
    "    data = medfilt(data, med_thres)\n",
    "    count = 0\n",
    "    start = -1\n",
    "    length = len(predicted)\n",
    "    for idx, item in enumerate(data):\n",
    "        if item == 1:\n",
    "            count += 1\n",
    "            if start == -1:\n",
    "                start = idx\n",
    "            if count < hard_thres:\n",
    "                if idx == length - 1:\n",
    "                    return data\n",
    "                elif data[idx + 1] == 0:\n",
    "                    count = 0\n",
    "                    data[start : idx + 1] = 0\n",
    "        if item == 0:\n",
    "            start = -1\n",
    "            count = 0\n",
    "    return data"
   ]
  },
  {
   "cell_type": "code",
   "execution_count": null,
   "metadata": {},
   "outputs": [],
   "source": [
    "thresholds = [3, 5]\n",
    "pres = {}\n",
    "recs = {}\n",
    "f1 = {}\n",
    "acc = {}\n",
    "for threshold in thresholds:\n",
    "    preds_thres = smoothing(preds, 3, threshold)\n",
    "    pre = precision_score(testing_labels, preds_thres)\n",
    "    pres[threshold] = 100 * pre\n",
    "    rec = recall_score(testing_labels, preds_thres)\n",
    "    recs[threshold] = 100 * rec\n",
    "    f1[threshold] = 100 * f1_score(testing_labels, preds_thres, average=\"macro\")\n",
    "    acc[threshold] = 100 * accuracy_score(testing_labels, preds_thres)"
   ]
  },
  {
   "cell_type": "code",
   "execution_count": null,
   "metadata": {},
   "outputs": [],
   "source": [
    "print(pres)"
   ]
  },
  {
   "cell_type": "code",
   "execution_count": null,
   "metadata": {},
   "outputs": [],
   "source": [
    "print(recs)"
   ]
  },
  {
   "cell_type": "code",
   "execution_count": null,
   "metadata": {},
   "outputs": [],
   "source": [
    "print(f1)"
   ]
  },
  {
   "cell_type": "code",
   "execution_count": null,
   "metadata": {},
   "outputs": [],
   "source": [
    "print(acc)"
   ]
  },
  {
   "cell_type": "code",
   "execution_count": null,
   "metadata": {},
   "outputs": [],
   "source": [
    "f1_score(testing_labels, preds, average=\"macro\")"
   ]
  },
  {
   "cell_type": "markdown",
   "metadata": {},
   "source": [
    "## Video Level Testing"
   ]
  },
  {
   "cell_type": "code",
   "execution_count": null,
   "metadata": {},
   "outputs": [],
   "source": [
    "trainining_size = int(0.8 * len(labels_matrix))\n",
    "\n",
    "video_labels = labels_matrix[trainining_size:]\n",
    "video_test = [\n",
    "    np.hstack((visual, audio))\n",
    "    for visual, audio in zip(\n",
    "        visual_matrix[trainining_size:], audio_matrix[trainining_size:]\n",
    "    )\n",
    "]"
   ]
  },
  {
   "cell_type": "code",
   "execution_count": null,
   "metadata": {},
   "outputs": [],
   "source": [
    "model = fuzzy_model\n",
    "pres = []\n",
    "recs = []\n",
    "for features, labels in zip(video_test, video_labels):\n",
    "    preds = model.predict(features)\n",
    "    preds = smoothing(preds, 3, 5)\n",
    "    pre = precision_score(labels, preds)\n",
    "    pres.append(100 * pre)\n",
    "    rec = recall_score(labels, preds)\n",
    "    recs.append(100 * rec)"
   ]
  },
  {
   "cell_type": "code",
   "execution_count": null,
   "metadata": {},
   "outputs": [],
   "source": [
    "import scipy.stats as st\n",
    "import matplotlib.pyplot as plt\n",
    "\n",
    "x = pres\n",
    "plt.figure(figsize=(10, 10))\n",
    "plt.hist(x, density=True)\n",
    "mn, mx = plt.xlim()\n",
    "plt.xlim(mn, mx)\n",
    "kde_xs = np.linspace(mn, mx, 300)\n",
    "kde = st.gaussian_kde(x)\n",
    "plt.plot(kde_xs, kde.pdf(kde_xs))\n",
    "ax = plt.gca()\n",
    "ax.axes.yaxis.set_ticks([])\n",
    "plt.ylabel(\"Frequency\")\n",
    "plt.xlabel(\"Video level precision (macro average %)\")\n",
    "plt.savefig(\"precision_hist\", dpi=150)"
   ]
  },
  {
   "cell_type": "code",
   "execution_count": null,
   "metadata": {},
   "outputs": [],
   "source": [
    "import scipy.stats as st\n",
    "import matplotlib.pyplot as plt\n",
    "\n",
    "x = recs\n",
    "plt.figure(figsize=(10, 10))\n",
    "plt.hist(x, density=True)\n",
    "mn, mx = plt.xlim()\n",
    "plt.xlim(mn, mx)\n",
    "kde_xs = np.linspace(mn, mx, 300)\n",
    "kde = st.gaussian_kde(x)\n",
    "plt.plot(kde_xs, kde.pdf(kde_xs))\n",
    "ax = plt.gca()\n",
    "ax.axes.yaxis.set_ticks([])\n",
    "plt.ylabel(\"Frequency\")\n",
    "plt.xlabel(\"Video level recall (macro average %)\")\n",
    "plt.savefig(\"recall_hist\", dpi=150)\n",
    "plt.show()"
   ]
  },
  {
   "cell_type": "code",
   "execution_count": null,
   "metadata": {},
   "outputs": [],
   "source": [
    "def video_level_accuracy(model, labels_list, features_list, acc_thres=0.85):\n",
    "    cnt = 0\n",
    "    for features, labels in zip(features_list, labels_list):\n",
    "        preds = model.predict(features)\n",
    "        preds = smoothing(preds, 3, 5)\n",
    "        acc = accuracy_score(labels, preds)\n",
    "        if acc >= acc_thres:\n",
    "            cnt += 1\n",
    "    return cnt / len(labels_list)"
   ]
  },
  {
   "cell_type": "code",
   "execution_count": null,
   "metadata": {},
   "outputs": [],
   "source": [
    "model = fuzzy_model\n",
    "accuracy = video_level_accuracy(model, video_labels, video_test, acc_thres=0.6)\n",
    "print(f\"--> Video level accuracy of the best classifier if: {accuracy * 100:.2f} %\")"
   ]
  }
 ],
 "metadata": {
  "kernelspec": {
   "display_name": "Python 3",
   "language": "python",
   "name": "python3"
  },
  "language_info": {
   "codemirror_mode": {
    "name": "ipython",
    "version": 3
   },
   "file_extension": ".py",
   "mimetype": "text/x-python",
   "name": "python",
   "nbconvert_exporter": "python",
   "pygments_lexer": "ipython3",
   "version": "3.8.10"
  }
 },
 "nbformat": 4,
 "nbformat_minor": 4
}
